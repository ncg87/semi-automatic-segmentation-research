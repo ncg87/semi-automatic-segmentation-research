{
 "cells": [
  {
   "cell_type": "code",
   "execution_count": 4,
   "metadata": {
    "execution": {
     "iopub.execute_input": "2024-09-23T19:11:43.285170Z",
     "iopub.status.busy": "2024-09-23T19:11:43.284930Z",
     "iopub.status.idle": "2024-09-23T19:11:48.403180Z",
     "shell.execute_reply": "2024-09-23T19:11:48.402534Z",
     "shell.execute_reply.started": "2024-09-23T19:11:43.285151Z"
    }
   },
   "outputs": [
    {
     "name": "stdout",
     "output_type": "stream",
     "text": [
      "Requirement already satisfied: torchvision in /usr/local/lib/python3.11/dist-packages (0.16.1+cu121)\n",
      "Requirement already satisfied: numpy in /usr/local/lib/python3.11/dist-packages (from torchvision) (1.26.3)\n",
      "Requirement already satisfied: requests in /usr/local/lib/python3.11/dist-packages (from torchvision) (2.31.0)\n",
      "Requirement already satisfied: torch==2.1.1 in /usr/local/lib/python3.11/dist-packages (from torchvision) (2.1.1+cu121)\n",
      "Requirement already satisfied: pillow!=8.3.*,>=5.3.0 in /usr/local/lib/python3.11/dist-packages (from torchvision) (9.5.0)\n",
      "Requirement already satisfied: filelock in /usr/local/lib/python3.11/dist-packages (from torch==2.1.1->torchvision) (3.13.1)\n",
      "Requirement already satisfied: typing-extensions in /usr/local/lib/python3.11/dist-packages (from torch==2.1.1->torchvision) (4.9.0)\n",
      "Requirement already satisfied: sympy in /usr/local/lib/python3.11/dist-packages (from torch==2.1.1->torchvision) (1.12)\n",
      "Requirement already satisfied: networkx in /usr/local/lib/python3.11/dist-packages (from torch==2.1.1->torchvision) (3.2.1)\n",
      "Requirement already satisfied: jinja2 in /usr/local/lib/python3.11/dist-packages (from torch==2.1.1->torchvision) (3.1.3)\n",
      "Requirement already satisfied: fsspec in /usr/local/lib/python3.11/dist-packages (from torch==2.1.1->torchvision) (2023.6.0)\n",
      "Requirement already satisfied: triton==2.1.0 in /usr/local/lib/python3.11/dist-packages (from torch==2.1.1->torchvision) (2.1.0)\n",
      "Requirement already satisfied: charset-normalizer<4,>=2 in /usr/local/lib/python3.11/dist-packages (from requests->torchvision) (3.3.2)\n",
      "Requirement already satisfied: idna<4,>=2.5 in /usr/lib/python3/dist-packages (from requests->torchvision) (3.3)\n",
      "Requirement already satisfied: urllib3<3,>=1.21.1 in /usr/local/lib/python3.11/dist-packages (from requests->torchvision) (2.0.7)\n",
      "Requirement already satisfied: certifi>=2017.4.17 in /usr/lib/python3/dist-packages (from requests->torchvision) (2020.6.20)\n",
      "Requirement already satisfied: MarkupSafe>=2.0 in /usr/local/lib/python3.11/dist-packages (from jinja2->torch==2.1.1->torchvision) (2.1.4)\n",
      "Requirement already satisfied: mpmath>=0.19 in /usr/local/lib/python3.11/dist-packages (from sympy->torch==2.1.1->torchvision) (1.3.0)\n",
      "\u001b[33mWARNING: Running pip as the 'root' user can result in broken permissions and conflicting behaviour with the system package manager. It is recommended to use a virtual environment instead: https://pip.pypa.io/warnings/venv\u001b[0m\u001b[33m\n",
      "\u001b[0mCollecting torchmetrics\n",
      "  Downloading torchmetrics-1.4.2-py3-none-any.whl.metadata (19 kB)\n",
      "Requirement already satisfied: numpy>1.20.0 in /usr/local/lib/python3.11/dist-packages (from torchmetrics) (1.26.3)\n",
      "Requirement already satisfied: packaging>17.1 in /usr/local/lib/python3.11/dist-packages (from torchmetrics) (23.2)\n",
      "Requirement already satisfied: torch>=1.10.0 in /usr/local/lib/python3.11/dist-packages (from torchmetrics) (2.1.1+cu121)\n",
      "Collecting lightning-utilities>=0.8.0 (from torchmetrics)\n",
      "  Downloading lightning_utilities-0.11.7-py3-none-any.whl.metadata (5.2 kB)\n",
      "Requirement already satisfied: setuptools in /usr/local/lib/python3.11/dist-packages (from lightning-utilities>=0.8.0->torchmetrics) (69.0.3)\n",
      "Requirement already satisfied: typing-extensions in /usr/local/lib/python3.11/dist-packages (from lightning-utilities>=0.8.0->torchmetrics) (4.9.0)\n",
      "Requirement already satisfied: filelock in /usr/local/lib/python3.11/dist-packages (from torch>=1.10.0->torchmetrics) (3.13.1)\n",
      "Requirement already satisfied: sympy in /usr/local/lib/python3.11/dist-packages (from torch>=1.10.0->torchmetrics) (1.12)\n",
      "Requirement already satisfied: networkx in /usr/local/lib/python3.11/dist-packages (from torch>=1.10.0->torchmetrics) (3.2.1)\n",
      "Requirement already satisfied: jinja2 in /usr/local/lib/python3.11/dist-packages (from torch>=1.10.0->torchmetrics) (3.1.3)\n",
      "Requirement already satisfied: fsspec in /usr/local/lib/python3.11/dist-packages (from torch>=1.10.0->torchmetrics) (2023.6.0)\n",
      "Requirement already satisfied: triton==2.1.0 in /usr/local/lib/python3.11/dist-packages (from torch>=1.10.0->torchmetrics) (2.1.0)\n",
      "Requirement already satisfied: MarkupSafe>=2.0 in /usr/local/lib/python3.11/dist-packages (from jinja2->torch>=1.10.0->torchmetrics) (2.1.4)\n",
      "Requirement already satisfied: mpmath>=0.19 in /usr/local/lib/python3.11/dist-packages (from sympy->torch>=1.10.0->torchmetrics) (1.3.0)\n",
      "Downloading torchmetrics-1.4.2-py3-none-any.whl (869 kB)\n",
      "\u001b[2K   \u001b[90m━━━━━━━━━━━━━━━━━━━━━━━━━━━━━━━━━━━━━━━━\u001b[0m \u001b[32m869.2/869.2 kB\u001b[0m \u001b[31m12.9 MB/s\u001b[0m eta \u001b[36m0:00:00\u001b[0ma \u001b[36m0:00:01\u001b[0m\n",
      "\u001b[?25hDownloading lightning_utilities-0.11.7-py3-none-any.whl (26 kB)\n",
      "Installing collected packages: lightning-utilities, torchmetrics\n",
      "Successfully installed lightning-utilities-0.11.7 torchmetrics-1.4.2\n",
      "\u001b[33mWARNING: Running pip as the 'root' user can result in broken permissions and conflicting behaviour with the system package manager. It is recommended to use a virtual environment instead: https://pip.pypa.io/warnings/venv\u001b[0m\u001b[33m\n",
      "\u001b[0m"
     ]
    }
   ],
   "source": [
    "!pip install torchvision\n",
    "!pip install torchmetrics\n"
   ]
  },
  {
   "cell_type": "code",
   "execution_count": 5,
   "metadata": {
    "execution": {
     "iopub.execute_input": "2024-09-23T19:11:48.404458Z",
     "iopub.status.busy": "2024-09-23T19:11:48.404274Z",
     "iopub.status.idle": "2024-09-23T19:11:50.208799Z",
     "shell.execute_reply": "2024-09-23T19:11:50.208262Z",
     "shell.execute_reply.started": "2024-09-23T19:11:48.404442Z"
    }
   },
   "outputs": [],
   "source": [
    "# Handling Model\n",
    "import copy\n",
    "import os\n",
    "import torch\n",
    "import torch.nn as nn\n",
    "import torch.optim as optim\n",
    "from torch.utils.data import DataLoader, Dataset, random_split\n",
    "from torchvision import transforms\n",
    "from torchvision import models as models\n",
    "import torchvision.transforms.functional as F\n",
    "from torchmetrics import Dice\n",
    "import matplotlib.pyplot as plt\n",
    "import os\n",
    "from PIL import Image"
   ]
  },
  {
   "cell_type": "markdown",
   "metadata": {},
   "source": [
    "Dataset"
   ]
  },
  {
   "cell_type": "code",
   "execution_count": 6,
   "metadata": {
    "execution": {
     "iopub.execute_input": "2024-09-23T19:11:51.331737Z",
     "iopub.status.busy": "2024-09-23T19:11:51.331406Z",
     "iopub.status.idle": "2024-09-23T19:11:51.382584Z",
     "shell.execute_reply": "2024-09-23T19:11:51.382066Z",
     "shell.execute_reply.started": "2024-09-23T19:11:51.331717Z"
    }
   },
   "outputs": [],
   "source": [
    "\n",
    "class BUIDSegmentationDataset(Dataset):\n",
    "    def __init__(self, root_dir, size=256, augment=False):\n",
    "        self.root_dir = root_dir\n",
    "        self.size = size\n",
    "        self.augment = augment\n",
    "        self.image_files = []\n",
    "        self.mask_files = []\n",
    "\n",
    "        for subfolder in os.listdir(root_dir):\n",
    "            subfolder_path = os.path.join(root_dir, subfolder)\n",
    "            if os.path.isdir(subfolder_path):\n",
    "                for file_name in os.listdir(subfolder_path):\n",
    "                    if file_name.endswith('.png') and '_mask' not in file_name:\n",
    "                        image_file = os.path.join(subfolder_path, file_name)\n",
    "                        mask_file = os.path.join(subfolder_path, file_name.replace('.png', '_mask.png'))\n",
    "                        if os.path.exists(mask_file):\n",
    "                            self.image_files.append(image_file)\n",
    "                            self.mask_files.append(mask_file)\n",
    "\n",
    "        self.transform = transforms.Compose([\n",
    "            transforms.Resize((self.size, self.size)),\n",
    "            transforms.ToTensor(),\n",
    "            transforms.Normalize(mean=[0.485, 0.456, 0.406], std=[0.229, 0.224, 0.225])\n",
    "        ])\n",
    "        \n",
    "        self.augmentation = transforms.Compose([\n",
    "            transforms.RandomHorizontalFlip(),\n",
    "            transforms.RandomRotation(10),\n",
    "        ])\n",
    "        \n",
    "    def __len__(self):\n",
    "        return len(self.image_files)\n",
    "    \n",
    "    def __getitem__(self, idx):\n",
    "        image = Image.open(self.image_files[idx]).convert('RGB')\n",
    "        mask = Image.open(self.mask_files[idx]).convert('L')\n",
    "        \n",
    "        if self.augment:\n",
    "            image = self.augmentation(image)\n",
    "            mask = self.augmentation(mask)\n",
    "        \n",
    "        image = self.transform(image)\n",
    "        mask = transforms.Resize((self.size, self.size))(mask)\n",
    "        mask = transforms.ToTensor()(mask)\n",
    "        \n",
    "        return image, mask\n",
    "\n",
    "root_dir = './BUID'\n",
    "size = 256\n",
    "\n",
    "# Create the dataset\n",
    "dataset = BUIDSegmentationDataset(root_dir, size)\n",
    "augmented_dataset = BUIDSegmentationDataset(root_dir, size, augment=True)\n"
   ]
  },
  {
   "cell_type": "code",
   "execution_count": 7,
   "metadata": {
    "execution": {
     "iopub.execute_input": "2024-09-23T19:11:52.343368Z",
     "iopub.status.busy": "2024-09-23T19:11:52.342702Z",
     "iopub.status.idle": "2024-09-23T19:11:52.346937Z",
     "shell.execute_reply": "2024-09-23T19:11:52.346341Z",
     "shell.execute_reply.started": "2024-09-23T19:11:52.343343Z"
    }
   },
   "outputs": [],
   "source": [
    "def splitDataset(augmented_dataset):\n",
    "    # Split dataset into a test and train datasets\n",
    "    subsets = []\n",
    "\n",
    "    # Get a size of fifth of dataset\n",
    "    test_split = (int)(len(augmented_dataset) / 5)\n",
    "\n",
    "    # Split fifth of dataset into test dataset\n",
    "    remaining = len(augmented_dataset) - test_split\n",
    "    test_dataset, remaining_dataset  = torch.utils.data.random_split(augmented_dataset, [test_split, remaining])\n",
    "\n",
    "    # Get size of 1/10 of dataset\n",
    "    split = (int)(len(augmented_dataset) / 10)\n",
    "\n",
    "    # Split the remaining into 1/10 of original dataset, for training set\n",
    "    while remaining >= split:\n",
    "        remaining = len(remaining_dataset) - split\n",
    "        split_dataset, remaining_dataset  = torch.utils.data.random_split(remaining_dataset, [split, remaining])\n",
    "        subsets.append(split_dataset)\n",
    "        \n",
    "    return subsets, test_dataset"
   ]
  },
  {
   "cell_type": "code",
   "execution_count": 10,
   "metadata": {
    "execution": {
     "iopub.execute_input": "2024-09-23T19:15:11.492415Z",
     "iopub.status.busy": "2024-09-23T19:15:11.492193Z",
     "iopub.status.idle": "2024-09-23T19:15:11.497663Z",
     "shell.execute_reply": "2024-09-23T19:15:11.497203Z",
     "shell.execute_reply.started": "2024-09-23T19:15:11.492399Z"
    }
   },
   "outputs": [
    {
     "data": {
      "text/plain": [
       "780"
      ]
     },
     "execution_count": 10,
     "metadata": {},
     "output_type": "execute_result"
    }
   ],
   "source": [
    "dataset.__len__()"
   ]
  },
  {
   "cell_type": "markdown",
   "metadata": {},
   "source": [
    "Training Method"
   ]
  },
  {
   "cell_type": "code",
   "execution_count": 8,
   "metadata": {
    "execution": {
     "iopub.execute_input": "2024-09-23T19:11:54.062011Z",
     "iopub.status.busy": "2024-09-23T19:11:54.061669Z",
     "iopub.status.idle": "2024-09-23T19:11:54.065927Z",
     "shell.execute_reply": "2024-09-23T19:11:54.065249Z",
     "shell.execute_reply.started": "2024-09-23T19:11:54.061987Z"
    }
   },
   "outputs": [],
   "source": [
    "# Define the training function\n",
    "def train_fn(model, loss_fn, dataloader, optimizer, device = 'cpu'):\n",
    "    \n",
    "    model.train()\n",
    "\n",
    "    avg_loss = 0\n",
    "    for i, (X, y) in enumerate(dataloader):\n",
    "        # Get data\n",
    "        X_train, y_train = X.to(device), y.to(device)  \n",
    "        # Get Output\n",
    "        output = model(X_train).to(device)\n",
    "        # Compute loss\n",
    "        loss = loss_fn(output, y_train)\n",
    "        avg_loss += loss.item()\n",
    "        # Optimize\n",
    "        optimizer.zero_grad()\n",
    "        loss.backward()\n",
    "        optimizer.step()\n",
    "\n",
    "    return avg_loss / len(dataloader)\n",
    "    \n",
    "        "
   ]
  },
  {
   "cell_type": "markdown",
   "metadata": {},
   "source": [
    "Test Method"
   ]
  },
  {
   "cell_type": "code",
   "execution_count": 9,
   "metadata": {
    "execution": {
     "iopub.execute_input": "2024-09-23T19:11:55.446681Z",
     "iopub.status.busy": "2024-09-23T19:11:55.446020Z",
     "iopub.status.idle": "2024-09-23T19:11:55.450370Z",
     "shell.execute_reply": "2024-09-23T19:11:55.449802Z",
     "shell.execute_reply.started": "2024-09-23T19:11:55.446660Z"
    }
   },
   "outputs": [],
   "source": [
    "def test_fn(model, loss_fn, dice, dataloader, device = 'cpu'):\n",
    "    model.eval()\n",
    "    test_loss = 0\n",
    "    test_dice = 0\n",
    "    with torch.inference_mode():\n",
    "        for i, (X, y) in enumerate(dataloader):\n",
    "            X, y = X.to(device), y.to(device)\n",
    "            output = model(X)\n",
    "            loss = loss_fn(output, y)\n",
    "            test_loss += loss.item()\n",
    "            test_dice += dice(torch.where(output > 0.5, 1, 0),torch.where(y > 0.50, 1, 0)).item()\n",
    "\n",
    "    \n",
    "    test_loss /= len(dataloader)\n",
    "    test_dice /= len(dataloader)\n",
    "    \n",
    "    return test_loss, test_dice"
   ]
  },
  {
   "cell_type": "markdown",
   "metadata": {},
   "source": [
    "Save Model Method"
   ]
  },
  {
   "cell_type": "code",
   "execution_count": 115,
   "metadata": {},
   "outputs": [],
   "source": [
    "def saveModel(model, name):\n",
    "    # Directory Name\n",
    "    directory = './models/'\n",
    "    # Create models folder and checks if it exists\n",
    "    if not os.path.exists(directory):\n",
    "        os.makedirs(directory)\n",
    "        print(f\"Directory {directory} created successfully...\")\n",
    "    # Define path and name\n",
    "    path = os.path.join(directory, name)\n",
    "    # Save model\n",
    "    torch.save(model, path)\n",
    "    print(f\"{name} saved succesfully\")"
   ]
  },
  {
   "cell_type": "markdown",
   "metadata": {},
   "source": [
    "Training"
   ]
  },
  {
   "cell_type": "code",
   "execution_count": 116,
   "metadata": {},
   "outputs": [],
   "source": [
    "splits = [0.1, 0.2, 0.3, 0.4, 0.5, 0.6, 0.7, 0.8, 0.9]\n",
    "\n",
    "BATCH_SIZE = 128\n",
    "num_workers = 0\n",
    "\n",
    "device = 'cuda' if torch.cuda.is_available() else 'cpu'\n",
    "\n",
    "lr = 0.01\n",
    "loss_fn = torch.nn.BCELoss()\n",
    "\n",
    "\n",
    "dice = Dice(average = 'micro', num_classes = 2, threshold = 0.5).to(device)"
   ]
  },
  {
   "cell_type": "code",
   "execution_count": 117,
   "metadata": {},
   "outputs": [
    {
     "name": "stderr",
     "output_type": "stream",
     "text": [
      "Using cache found in C:\\Users\\Sebastian/.cache\\torch\\hub\\mateuszbuda_brain-segmentation-pytorch_master\n",
      "Using cache found in C:\\Users\\Sebastian/.cache\\torch\\hub\\mateuszbuda_brain-segmentation-pytorch_master\n",
      "Using cache found in C:\\Users\\Sebastian/.cache\\torch\\hub\\mateuszbuda_brain-segmentation-pytorch_master\n",
      "Using cache found in C:\\Users\\Sebastian/.cache\\torch\\hub\\mateuszbuda_brain-segmentation-pytorch_master\n",
      "Using cache found in C:\\Users\\Sebastian/.cache\\torch\\hub\\mateuszbuda_brain-segmentation-pytorch_master\n",
      "Using cache found in C:\\Users\\Sebastian/.cache\\torch\\hub\\mateuszbuda_brain-segmentation-pytorch_master\n",
      "Using cache found in C:\\Users\\Sebastian/.cache\\torch\\hub\\mateuszbuda_brain-segmentation-pytorch_master\n",
      "Using cache found in C:\\Users\\Sebastian/.cache\\torch\\hub\\mateuszbuda_brain-segmentation-pytorch_master\n",
      "Using cache found in C:\\Users\\Sebastian/.cache\\torch\\hub\\mateuszbuda_brain-segmentation-pytorch_master\n",
      "Using cache found in C:\\Users\\Sebastian/.cache\\torch\\hub\\mateuszbuda_brain-segmentation-pytorch_master\n",
      "Using cache found in C:\\Users\\Sebastian/.cache\\torch\\hub\\mateuszbuda_brain-segmentation-pytorch_master\n",
      "Using cache found in C:\\Users\\Sebastian/.cache\\torch\\hub\\mateuszbuda_brain-segmentation-pytorch_master\n",
      "Using cache found in C:\\Users\\Sebastian/.cache\\torch\\hub\\mateuszbuda_brain-segmentation-pytorch_master\n",
      "Using cache found in C:\\Users\\Sebastian/.cache\\torch\\hub\\mateuszbuda_brain-segmentation-pytorch_master\n",
      "Using cache found in C:\\Users\\Sebastian/.cache\\torch\\hub\\mateuszbuda_brain-segmentation-pytorch_master\n",
      "Using cache found in C:\\Users\\Sebastian/.cache\\torch\\hub\\mateuszbuda_brain-segmentation-pytorch_master\n",
      "Using cache found in C:\\Users\\Sebastian/.cache\\torch\\hub\\mateuszbuda_brain-segmentation-pytorch_master\n",
      "Using cache found in C:\\Users\\Sebastian/.cache\\torch\\hub\\mateuszbuda_brain-segmentation-pytorch_master\n",
      "Using cache found in C:\\Users\\Sebastian/.cache\\torch\\hub\\mateuszbuda_brain-segmentation-pytorch_master\n",
      "Using cache found in C:\\Users\\Sebastian/.cache\\torch\\hub\\mateuszbuda_brain-segmentation-pytorch_master\n",
      "Using cache found in C:\\Users\\Sebastian/.cache\\torch\\hub\\mateuszbuda_brain-segmentation-pytorch_master\n",
      "Using cache found in C:\\Users\\Sebastian/.cache\\torch\\hub\\mateuszbuda_brain-segmentation-pytorch_master\n",
      "Using cache found in C:\\Users\\Sebastian/.cache\\torch\\hub\\mateuszbuda_brain-segmentation-pytorch_master\n",
      "Using cache found in C:\\Users\\Sebastian/.cache\\torch\\hub\\mateuszbuda_brain-segmentation-pytorch_master\n",
      "Using cache found in C:\\Users\\Sebastian/.cache\\torch\\hub\\mateuszbuda_brain-segmentation-pytorch_master\n",
      "Using cache found in C:\\Users\\Sebastian/.cache\\torch\\hub\\mateuszbuda_brain-segmentation-pytorch_master\n",
      "Using cache found in C:\\Users\\Sebastian/.cache\\torch\\hub\\mateuszbuda_brain-segmentation-pytorch_master\n",
      "Using cache found in C:\\Users\\Sebastian/.cache\\torch\\hub\\mateuszbuda_brain-segmentation-pytorch_master\n",
      "Using cache found in C:\\Users\\Sebastian/.cache\\torch\\hub\\mateuszbuda_brain-segmentation-pytorch_master\n",
      "Using cache found in C:\\Users\\Sebastian/.cache\\torch\\hub\\mateuszbuda_brain-segmentation-pytorch_master\n",
      "Using cache found in C:\\Users\\Sebastian/.cache\\torch\\hub\\mateuszbuda_brain-segmentation-pytorch_master\n",
      "Using cache found in C:\\Users\\Sebastian/.cache\\torch\\hub\\mateuszbuda_brain-segmentation-pytorch_master\n"
     ]
    }
   ],
   "source": [
    "SPLIT_TEST_DICE = [0,0,0,0,0,0,0,0]\n",
    "SPLIT_TEST_LOSS = [0,0,0,0,0,0,0,0]\n",
    "\n",
    "# Number of times to run experiment\n",
    "iterations = 4\n",
    "\n",
    "# Threshold loss to stop training model\n",
    "threshold_loss = 0.3\n",
    "\n",
    "# Run experiment multiple times\n",
    "for j in range(iterations):\n",
    "    # Get test dataset and train splits\n",
    "    subsets, test_dataset = splitDataset(augmented_dataset)\n",
    "    for i in range(len(subsets)):\n",
    "        # Initialize model, optimizer, and learning rate scheduler\n",
    "        model = torch.hub.load('mateuszbuda/brain-segmentation-pytorch', 'unet', in_channels=3, out_channels=1, init_features=64, pretrained=False, trust_repo=True).to(device)\n",
    "        optimizer = torch.optim.Adam(model.parameters(), lr)\n",
    "        lr_scheduler = torch.optim.lr_scheduler.ExponentialLR(optimizer, gamma=0.85)\n",
    "        #name = f'UNet|Split:{(i+1)/10}|Iter:{j}'\n",
    "        \n",
    "        # Create train dataset for split\n",
    "        train_dataset = torch.utils.data.ConcatDataset(subsets[:i+1])\n",
    "        \n",
    "        # Load datasets into dataloaders\n",
    "        if i == 0: # Error when loading single dataset in concat into loader, so seperate case\n",
    "            train_dataloader = torch.utils.data.DataLoader(dataset=subsets[i], num_workers = num_workers, shuffle =True)\n",
    "        else:\n",
    "            train_dataloader = torch.utils.data.DataLoader(dataset=train_dataset, num_workers = num_workers, shuffle =True)\n",
    "        test_dataloader = torch.utils.data.DataLoader(dataset=test_dataset, num_workers = num_workers, shuffle =False)\n",
    "        \n",
    "        # Initialize loss and previous loss\n",
    "        loss = float(\"inf\")\n",
    "        best_loss = float(\"inf\")\n",
    "        # Train model until it reaches threshold loss\n",
    "        while(loss > threshold_loss):\n",
    "            \n",
    "            # Compute training loss\n",
    "            loss = train_fn(model, loss_fn, train_dataloader, optimizer, device)\n",
    "            # Update best loss if new loss is less than it\n",
    "            if best_loss > loss:\n",
    "                best_loss = loss\n",
    "            # Adjust learning rate if new loss is worse than best loss\n",
    "            else:\n",
    "                lr_scheduler.step()\n",
    "        # Check accuracy and loss on test set\n",
    "        test_loss , test_dice = test_fn(copy.deepcopy(model), loss_fn, dice, test_dataloader, device)\n",
    "        # Save model\n",
    "        #saveModel(model,name)\n",
    "        # Save test loss and dice score for plotting later\n",
    "        SPLIT_TEST_DICE[i] += test_dice\n",
    "        SPLIT_TEST_LOSS[i] += test_loss\n",
    "# Take average of experiments\n",
    "for i in range(len(subsets)):\n",
    "    SPLIT_TEST_DICE[i] /= iterations\n",
    "    SPLIT_TEST_LOSS[i] /= iterations\n",
    "    "
   ]
  },
  {
   "cell_type": "code",
   "execution_count": 118,
   "metadata": {},
   "outputs": [
    {
     "data": {
      "image/png": "[encoded data removed]",
      "text/plain": [
       "<Figure size 1000x1000 with 2 Axes>"
      ]
     },
     "metadata": {},
     "output_type": "display_data"
    },
    {
     "data": {
      "text/plain": [
       "<Figure size 640x480 with 0 Axes>"
      ]
     },
     "metadata": {},
     "output_type": "display_data"
    }
   ],
   "source": [
    "# Plot test loss and dice\n",
    "splits = [0.1, 0.2, 0.3, 0.4, 0.5, 0.6, 0.7, 0.8,]\n",
    "\n",
    "fig, ax = plt.subplots(2,1, figsize=(10,10))\n",
    "plt.figure()\n",
    "# Plot dice scores\n",
    "ax[0].plot(SPLIT_TEST_DICE, label = \"Split Dice Score\")\n",
    "ax[0].set_title(\"Split Dice Score\")\n",
    "ax[0].set_xlabel(\"Split\")\n",
    "ax[0].set_ylabel(\"Dice Score\")\n",
    "ax[0].set_xticks(range(len(splits)))\n",
    "ax[0].set_xticklabels(splits)\n",
    "# Plot losses\n",
    "ax[1].plot(SPLIT_TEST_LOSS, label = \"Split Loss\")\n",
    "ax[1].set_title(\"Split Loss\")\n",
    "ax[1].set_xlabel(\"Split\")\n",
    "ax[1].set_ylabel(\"Loss\")\n",
    "ax[1].set_xticks(range(len(splits)))\n",
    "ax[1].set_xticklabels(splits)\n",
    "\n",
    "plt.show()"
   ]
  }
 ],
 "metadata": {
  "kernelspec": {
   "display_name": "Python 3 (ipykernel)",
   "language": "python",
   "name": "python3"
  },
  "language_info": {
   "codemirror_mode": {
    "name": "ipython",
    "version": 3
   },
   "file_extension": ".py",
   "mimetype": "text/x-python",
   "name": "python",
   "nbconvert_exporter": "python",
   "pygments_lexer": "ipython3",
   "version": "3.11.7"
  }
 },
 "nbformat": 4,
 "nbformat_minor": 4
}
