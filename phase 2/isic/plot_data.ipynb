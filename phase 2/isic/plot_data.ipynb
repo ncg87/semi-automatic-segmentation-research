{
 "cells": [
  {
   "cell_type": "code",
   "execution_count": null,
   "metadata": {},
   "outputs": [],
   "source": []
  },
  {
   "cell_type": "markdown",
   "metadata": {},
   "source": [
    "# Imports\n",
    "Packages required for experiment"
   ]
  },
  {
   "cell_type": "code",
   "execution_count": 1,
   "metadata": {
    "execution": {
     "iopub.execute_input": "2024-10-08T18:29:07.374704Z",
     "iopub.status.busy": "2024-10-08T18:29:07.374411Z",
     "iopub.status.idle": "2024-10-08T18:29:08.898152Z",
     "shell.execute_reply": "2024-10-08T18:29:08.897578Z",
     "shell.execute_reply.started": "2024-10-08T18:29:07.374679Z"
    }
   },
   "outputs": [],
   "source": [
    "# General use\n",
    "import torch\n",
    "import numpy as np\n",
    "import matplotlib.pyplot as plt\n"
   ]
  },
  {
   "cell_type": "markdown",
   "metadata": {},
   "source": [
    "# Extract Data"
   ]
  },
  {
   "cell_type": "code",
   "execution_count": 2,
   "metadata": {
    "execution": {
     "iopub.execute_input": "2024-10-08T18:29:08.899435Z",
     "iopub.status.busy": "2024-10-08T18:29:08.899166Z",
     "iopub.status.idle": "2024-10-08T18:29:08.908262Z",
     "shell.execute_reply": "2024-10-08T18:29:08.907758Z",
     "shell.execute_reply.started": "2024-10-08T18:29:08.899418Z"
    }
   },
   "outputs": [],
   "source": [
    "## Baseline Data ##\n",
    "\n",
    "# File name\n",
    "name = 'baseline.pt'\n",
    "baseline = torch.load(f=name)\n",
    "# Extract indices and baseline jaccard and dice scores\n",
    "all_indices = baseline['fold_dict']\n",
    "baseline_jaccard_score = baseline['baseline_jaccard']\n",
    "baseline_dice_score = baseline['baseline_dice']\n",
    "baseline_iterations_object = baseline['baseline_iterations']\n",
    "\n",
    "\n",
    "splits = ['A', 'B', 'C', 'D', 'E']\n",
    "partitions = [0.1,0.2,0.3,0.4,0.5,0.6,0.7]"
   ]
  },
  {
   "cell_type": "code",
   "execution_count": 3,
   "metadata": {
    "execution": {
     "iopub.execute_input": "2024-10-08T18:29:08.909283Z",
     "iopub.status.busy": "2024-10-08T18:29:08.909130Z",
     "iopub.status.idle": "2024-10-08T18:29:08.914694Z",
     "shell.execute_reply": "2024-10-08T18:29:08.914212Z",
     "shell.execute_reply.started": "2024-10-08T18:29:08.909272Z"
    }
   },
   "outputs": [],
   "source": [
    "def displayChart(OG_dice, new_dice, baseline_dice, threshold_dice, OG_jaccard, new_jaccard, baseline_jaccard, threshold_jaccard, splits, partitions):\n",
    "    fig, ax = plt.subplots(2, 1, figsize=(12, 30))\n",
    "    ax[0].plot(range(len(partitions)), OG_jaccard, label='Original Jaccard', marker='o', markersize=20)\n",
    "    ax[0].plot(range(len(partitions)), new_jaccard, label='Jaccard after SAS', marker='x', markersize=20)\n",
    "    ax[0].plot(range(len(partitions)), baseline_jaccard, label='Baseline Jaccard')\n",
    "    ax[0].plot(range(len(partitions)), threshold_jaccard, label='90% Threshold', linestyle='--')\n",
    "    ax[0].set_title(f'Split: {splits[i]} Jaccard Scores')\n",
    "    ax[0].set_xlabel('Data Partition Size')\n",
    "    ax[0].set_ylabel('Jaccard Score')\n",
    "    ax[0].set_xticks(range(len(partitions)))\n",
    "    ax[0].set_xticklabels(partitions)\n",
    "    ax[0].set_ylim([0, 1])\n",
    "    ax[0].legend()\n",
    "    \n",
    "    # Scatter Dice scores\n",
    "    ax[1].plot(range(len(partitions)), OG_dice, label='Original Dice', marker='o', markersize=20)\n",
    "    ax[1].plot(range(len(partitions)), new_dice, label='Dice after SAS', marker='x', markersize=20)\n",
    "    ax[1].plot(range(len(partitions)), baseline_dice, label='Baseline Dice')\n",
    "    ax[1].plot(range(len(partitions)), threshold_dice, label='90% Threshold', linestyle='--')\n",
    "    ax[1].set_title(f'Split: {splits[i]} Dice Scores')\n",
    "    ax[1].set_xlabel('Data Partition Size')\n",
    "    ax[1].set_ylabel('Dice Score')\n",
    "    ax[1].set_xticks(range(len(partitions)))\n",
    "    ax[1].set_xticklabels(partitions)\n",
    "    ax[1].set_ylim([0, 1])\n",
    "    ax[1].legend()\n",
    "    plt.pause(0.001)\n",
    "    "
   ]
  },
  {
   "cell_type": "markdown",
   "metadata": {},
   "source": [
    "# Chart Data"
   ]
  },
  {
   "cell_type": "code",
   "execution_count": 4,
   "metadata": {
    "execution": {
     "iopub.execute_input": "2024-10-08T18:29:08.915717Z",
     "iopub.status.busy": "2024-10-08T18:29:08.915567Z",
     "iopub.status.idle": "2024-10-08T18:29:09.142343Z",
     "shell.execute_reply": "2024-10-08T18:29:09.141537Z",
     "shell.execute_reply.started": "2024-10-08T18:29:08.915703Z"
    }
   },
   "outputs": [
    {
     "ename": "FileNotFoundError",
     "evalue": "[Errno 2] No such file or directory: './new_models/Split:A|Partition:0.1|New'",
     "output_type": "error",
     "traceback": [
      "\u001b[0;31m---------------------------------------------------------------------------\u001b[0m",
      "\u001b[0;31mFileNotFoundError\u001b[0m                         Traceback (most recent call last)",
      "Cell \u001b[0;32mIn[4], line 38\u001b[0m\n\u001b[1;32m     35\u001b[0m \u001b[38;5;28;01mfor\u001b[39;00m partition \u001b[38;5;129;01min\u001b[39;00m partitions:\n\u001b[1;32m     36\u001b[0m     \u001b[38;5;66;03m# Load the stored data\u001b[39;00m\n\u001b[1;32m     37\u001b[0m     name \u001b[38;5;241m=\u001b[39m \u001b[38;5;124mf\u001b[39m\u001b[38;5;124m'\u001b[39m\u001b[38;5;124m./new_models/Split:\u001b[39m\u001b[38;5;132;01m{\u001b[39;00msplit\u001b[38;5;132;01m}\u001b[39;00m\u001b[38;5;124m|Partition:\u001b[39m\u001b[38;5;132;01m{\u001b[39;00mpartition\u001b[38;5;132;01m}\u001b[39;00m\u001b[38;5;124m|New\u001b[39m\u001b[38;5;124m'\u001b[39m\n\u001b[0;32m---> 38\u001b[0m     data \u001b[38;5;241m=\u001b[39m \u001b[43mtorch\u001b[49m\u001b[38;5;241;43m.\u001b[39;49m\u001b[43mload\u001b[49m\u001b[43m(\u001b[49m\u001b[43mname\u001b[49m\u001b[43m)\u001b[49m\n\u001b[1;32m     39\u001b[0m     \u001b[38;5;66;03m# Extract data\u001b[39;00m\n\u001b[1;32m     40\u001b[0m     split_new_jaccard\u001b[38;5;241m.\u001b[39mappend(data[\u001b[38;5;124m'\u001b[39m\u001b[38;5;124mjaccard_score\u001b[39m\u001b[38;5;124m'\u001b[39m])\n",
      "File \u001b[0;32m/usr/local/lib/python3.11/dist-packages/torch/serialization.py:986\u001b[0m, in \u001b[0;36mload\u001b[0;34m(f, map_location, pickle_module, weights_only, mmap, **pickle_load_args)\u001b[0m\n\u001b[1;32m    983\u001b[0m \u001b[38;5;28;01mif\u001b[39;00m \u001b[38;5;124m'\u001b[39m\u001b[38;5;124mencoding\u001b[39m\u001b[38;5;124m'\u001b[39m \u001b[38;5;129;01mnot\u001b[39;00m \u001b[38;5;129;01min\u001b[39;00m pickle_load_args\u001b[38;5;241m.\u001b[39mkeys():\n\u001b[1;32m    984\u001b[0m     pickle_load_args[\u001b[38;5;124m'\u001b[39m\u001b[38;5;124mencoding\u001b[39m\u001b[38;5;124m'\u001b[39m] \u001b[38;5;241m=\u001b[39m \u001b[38;5;124m'\u001b[39m\u001b[38;5;124mutf-8\u001b[39m\u001b[38;5;124m'\u001b[39m\n\u001b[0;32m--> 986\u001b[0m \u001b[38;5;28;01mwith\u001b[39;00m \u001b[43m_open_file_like\u001b[49m\u001b[43m(\u001b[49m\u001b[43mf\u001b[49m\u001b[43m,\u001b[49m\u001b[43m \u001b[49m\u001b[38;5;124;43m'\u001b[39;49m\u001b[38;5;124;43mrb\u001b[39;49m\u001b[38;5;124;43m'\u001b[39;49m\u001b[43m)\u001b[49m \u001b[38;5;28;01mas\u001b[39;00m opened_file:\n\u001b[1;32m    987\u001b[0m     \u001b[38;5;28;01mif\u001b[39;00m _is_zipfile(opened_file):\n\u001b[1;32m    988\u001b[0m         \u001b[38;5;66;03m# The zipfile reader is going to advance the current file position.\u001b[39;00m\n\u001b[1;32m    989\u001b[0m         \u001b[38;5;66;03m# If we want to actually tail call to torch.jit.load, we need to\u001b[39;00m\n\u001b[1;32m    990\u001b[0m         \u001b[38;5;66;03m# reset back to the original position.\u001b[39;00m\n\u001b[1;32m    991\u001b[0m         orig_position \u001b[38;5;241m=\u001b[39m opened_file\u001b[38;5;241m.\u001b[39mtell()\n",
      "File \u001b[0;32m/usr/local/lib/python3.11/dist-packages/torch/serialization.py:435\u001b[0m, in \u001b[0;36m_open_file_like\u001b[0;34m(name_or_buffer, mode)\u001b[0m\n\u001b[1;32m    433\u001b[0m \u001b[38;5;28;01mdef\u001b[39;00m \u001b[38;5;21m_open_file_like\u001b[39m(name_or_buffer, mode):\n\u001b[1;32m    434\u001b[0m     \u001b[38;5;28;01mif\u001b[39;00m _is_path(name_or_buffer):\n\u001b[0;32m--> 435\u001b[0m         \u001b[38;5;28;01mreturn\u001b[39;00m \u001b[43m_open_file\u001b[49m\u001b[43m(\u001b[49m\u001b[43mname_or_buffer\u001b[49m\u001b[43m,\u001b[49m\u001b[43m \u001b[49m\u001b[43mmode\u001b[49m\u001b[43m)\u001b[49m\n\u001b[1;32m    436\u001b[0m     \u001b[38;5;28;01melse\u001b[39;00m:\n\u001b[1;32m    437\u001b[0m         \u001b[38;5;28;01mif\u001b[39;00m \u001b[38;5;124m'\u001b[39m\u001b[38;5;124mw\u001b[39m\u001b[38;5;124m'\u001b[39m \u001b[38;5;129;01min\u001b[39;00m mode:\n",
      "File \u001b[0;32m/usr/local/lib/python3.11/dist-packages/torch/serialization.py:416\u001b[0m, in \u001b[0;36m_open_file.__init__\u001b[0;34m(self, name, mode)\u001b[0m\n\u001b[1;32m    415\u001b[0m \u001b[38;5;28;01mdef\u001b[39;00m \u001b[38;5;21m__init__\u001b[39m(\u001b[38;5;28mself\u001b[39m, name, mode):\n\u001b[0;32m--> 416\u001b[0m     \u001b[38;5;28msuper\u001b[39m()\u001b[38;5;241m.\u001b[39m\u001b[38;5;21m__init__\u001b[39m(\u001b[38;5;28;43mopen\u001b[39;49m\u001b[43m(\u001b[49m\u001b[43mname\u001b[49m\u001b[43m,\u001b[49m\u001b[43m \u001b[49m\u001b[43mmode\u001b[49m\u001b[43m)\u001b[49m)\n",
      "\u001b[0;31mFileNotFoundError\u001b[0m: [Errno 2] No such file or directory: './new_models/Split:A|Partition:0.1|New'"
     ]
    }
   ],
   "source": [
    "# Initalize lists to store data\n",
    "baseline_jaccard = []\n",
    "threshold_jaccard = []\n",
    "OG_jaccard = []\n",
    "new_jaccard = []\n",
    "\n",
    "baseline_dice = []\n",
    "threshold_dice = []\n",
    "OG_dice = []\n",
    "new_dice = []\n",
    "\n",
    "baseline_iterations = []\n",
    "OG_iterations = []\n",
    "new_iterations = []\n",
    "\n",
    "# Fill baseline list\n",
    "for parition in partitions:\n",
    "    baseline_jaccard.append(baseline_jaccard_score)\n",
    "    baseline_dice.append(baseline_dice_score)\n",
    "    threshold_jaccard.append(baseline_jaccard_score * 0.9)\n",
    "    threshold_dice.append(baseline_dice_score * 0.9)\n",
    "    baseline_iterations.append(baseline_iterations_object)\n",
    "\n",
    "# Cycle through all models and data points for each\n",
    "for split in splits:\n",
    "    # Initialize the arrays\n",
    "    split_OG_jaccard = []\n",
    "    split_OG_dice = []\n",
    "    split_OG_iterations = []\n",
    "    \n",
    "    split_new_jaccard = []\n",
    "    split_new_dice = []\n",
    "    split_new_iterations = []\n",
    "    \n",
    "    for partition in partitions:\n",
    "        # Load the stored data\n",
    "        name = f'./new_models/Split:{split}|Partition:{partition}|New'\n",
    "        data = torch.load(name)\n",
    "        # Extract data\n",
    "        split_new_jaccard.append(data['jaccard_score'])\n",
    "        split_new_dice.append(data['dice_score'])\n",
    "        split_new_iterations.append(data['num_iterations'])\n",
    "        split_OG_jaccard.append( data['orig_jaccard_score'])\n",
    "        split_OG_dice.append(data['orig_dice_score'])\n",
    "        split_OG_iterations.append(data['orig_iterations'])\n",
    "    # Store arrays for plotting\n",
    "    OG_jaccard.append(split_OG_jaccard)\n",
    "    new_jaccard.append(split_new_jaccard)\n",
    "    \n",
    "    OG_dice.append(split_OG_dice)\n",
    "    new_dice.append(split_new_dice)\n",
    "    \n",
    "    new_iterations.append(split_new_iterations)\n",
    "    OG_iterations.append(split_OG_iterations)\n",
    "    \n",
    "\n",
    "\n",
    "\n",
    "    \n",
    "\n"
   ]
  },
  {
   "cell_type": "code",
   "execution_count": null,
   "metadata": {
    "execution": {
     "iopub.status.busy": "2024-10-08T18:29:09.142764Z",
     "iopub.status.idle": "2024-10-08T18:29:09.142951Z",
     "shell.execute_reply": "2024-10-08T18:29:09.142874Z",
     "shell.execute_reply.started": "2024-10-08T18:29:09.142865Z"
    }
   },
   "outputs": [],
   "source": [
    "# Cycle through all splits\n",
    "plt.rcParams.update({'font.size': 30})\n",
    "for i in range(len(splits)):\n",
    "    displayChart(OG_dice[i], new_dice[i], baseline_dice, threshold_dice, OG_jaccard[i], new_jaccard[i], baseline_jaccard, threshold_jaccard, splits, partitions)"
   ]
  },
  {
   "cell_type": "code",
   "execution_count": null,
   "metadata": {},
   "outputs": [],
   "source": []
  },
  {
   "cell_type": "code",
   "execution_count": null,
   "metadata": {},
   "outputs": [],
   "source": []
  }
 ],
 "metadata": {
  "kernelspec": {
   "display_name": "Python 3 (ipykernel)",
   "language": "python",
   "name": "python3"
  },
  "language_info": {
   "codemirror_mode": {
    "name": "ipython",
    "version": 3
   },
   "file_extension": ".py",
   "mimetype": "text/x-python",
   "name": "python",
   "nbconvert_exporter": "python",
   "pygments_lexer": "ipython3",
   "version": "3.11.7"
  }
 },
 "nbformat": 4,
 "nbformat_minor": 4
}
