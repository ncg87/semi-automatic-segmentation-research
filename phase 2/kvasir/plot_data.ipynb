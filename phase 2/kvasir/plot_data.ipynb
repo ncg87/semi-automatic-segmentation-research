{
 "cells": [
  {
   "cell_type": "code",
   "execution_count": null,
   "metadata": {},
   "outputs": [],
   "source": []
  },
  {
   "cell_type": "markdown",
   "metadata": {},
   "source": [
    "# Imports\n",
    "Packages required for experiment"
   ]
  },
  {
   "cell_type": "code",
   "execution_count": null,
   "metadata": {},
   "outputs": [],
   "source": [
    "# General use\n",
    "import torch\n",
    "import numpy as np\n",
    "import matplotlib.pyplot as plt\n"
   ]
  },
  {
   "cell_type": "markdown",
   "metadata": {},
   "source": [
    "# Extract Data"
   ]
  },
  {
   "cell_type": "code",
   "execution_count": null,
   "metadata": {},
   "outputs": [],
   "source": [
    "## Baseline Data ##\n",
    "\n",
    "# File name\n",
    "name = 'baseline.pt'\n",
    "baseline = torch.load(f=name)\n",
    "# Extract indices and baseline jaccard and dice scores\n",
    "all_indices = baseline['fold_dict']\n",
    "baseline_jaccard_score = baseline['baseline_jaccard']\n",
    "baseline_dice_score = baseline['baseline_dice']\n",
    "\n",
    "\n",
    "splits = ['A', 'B', 'C', 'D', 'E']\n",
    "partitions = [0.1,0.2,0.3,0.4,0.5,0.6,0.7]"
   ]
  },
  {
   "cell_type": "markdown",
   "metadata": {},
   "source": [
    "# Chart Data"
   ]
  },
  {
   "cell_type": "code",
   "execution_count": null,
   "metadata": {},
   "outputs": [],
   "source": [
    "# Initalize lists to store data\n",
    "baseline_jaccard = []\n",
    "OG_jaccard = []\n",
    "new_jaccard = []\n",
    "\n",
    "baseline_dice = []\n",
    "OG_dice = []\n",
    "new_dice = []\n",
    "\n",
    "# Fill baseline list\n",
    "for parition in partitions:\n",
    "    baseline_jaccard.append(baseline_jaccard_score)\n",
    "    baseline_dice.append(baseline_dice_score)\n",
    "\n",
    "# Cycle through all models and data points for each\n",
    "for split in splits:\n",
    "    # Initialize the arrays\n",
    "    split_OG_jaccard = []\n",
    "    split_OG_dice = []\n",
    "    split_new_jaccard = []\n",
    "    split_new_dice = []\n",
    "    for partition in partitions:\n",
    "        # Load the stored data\n",
    "        name = f'./new_models/Split:{split}|Partition:{partition}'\n",
    "        data = torch.load(name)\n",
    "        # Extract data\n",
    "        split_new_jaccard.append(data['jaccard_score'])\n",
    "        split_new_dice.append(data['dice_score'])\n",
    "        split_OG_jaccard.append( data['orig_jaccard_score'])\n",
    "        split_OG_dice.append(data['orig_dice_score'])\n",
    "    # Store arrays for plotting\n",
    "    OG_jaccard.append(split_OG_jaccard)\n",
    "    new_jaccard.append(split_new_jaccard)\n",
    "    OG_dice.append(split_OG_dice)\n",
    "    new_dice.append(split_new_dice)\n",
    "\n",
    "# Chart the results\n",
    "fig, ax = plt.subplots(2,5, figsize=(30,30))\n",
    "\n",
    "# Cycle through all splits\n",
    "for i in range(len(splits)):\n",
    "    # Chart jaccard scores\n",
    "    ax[0,i].plot(OG_jaccard[i], label='Original Jaccard')\n",
    "    ax[0,i].plot(new_jaccard[i], label='Jaccard after SAS')\n",
    "    ax[0,i].plot(baseline_jaccard, label='Baseline Jaccard')\n",
    "    ax[0,i].set_title(f'Split: {splits[i]} Jaccard Scores')\n",
    "    ax[0,i].set_xlabel('Data Partition Size')\n",
    "    ax[0,i].set_ylabel('Jaccard Score')\n",
    "    ax[0,i].set_xticks(range(len(partitions)))\n",
    "    ax[0,i].set_xticklabels(partitions)\n",
    "    ax[0,i].set_ylim([0,1])\n",
    "    ax[0,i].legend()\n",
    "    # Chart dice scores\n",
    "    ax[1,i].plot(OG_dice[i], label='Original Dice')\n",
    "    ax[1,i].plot(new_dice[i], label='Dice after SAS')\n",
    "    ax[1,i].plot(baseline_dice, label='Baseline Dice')\n",
    "    ax[0,i].set_title(f'Split: {splits[i]} Dice Scores')\n",
    "    ax[0,i].set_xlabel('Data Partition Size')\n",
    "    ax[0,i].set_ylabel('Dice Score')\n",
    "    ax[0,i].set_xticks(range(len(partitions)))\n",
    "    ax[0,i].set_xticklabels(partitions)\n",
    "    ax[0,i].set_ylim([0,1])\n",
    "    ax[0,i].legend()\n",
    "    \n",
    "        \n"
   ]
  }
 ],
 "metadata": {
  "kernelspec": {
   "display_name": "Python 3",
   "language": "python",
   "name": "python3"
  },
  "language_info": {
   "codemirror_mode": {
    "name": "ipython",
    "version": 3
   },
   "file_extension": ".py",
   "mimetype": "text/x-python",
   "name": "python",
   "nbconvert_exporter": "python",
   "pygments_lexer": "ipython3",
   "version": "3.11.9"
  }
 },
 "nbformat": 4,
 "nbformat_minor": 2
}
