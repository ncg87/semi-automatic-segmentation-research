{
 "cells": [
  {
   "cell_type": "code",
   "execution_count": 4,
   "metadata": {
    "execution": {
     "iopub.execute_input": "2024-08-21T15:11:27.625414Z",
     "iopub.status.busy": "2024-08-21T15:11:27.625085Z",
     "iopub.status.idle": "2024-08-21T15:11:38.274102Z",
     "shell.execute_reply": "2024-08-21T15:11:38.273348Z",
     "shell.execute_reply.started": "2024-08-21T15:11:27.625387Z"
    }
   },
   "outputs": [
    {
     "name": "stdout",
     "output_type": "stream",
     "text": [
      "Requirement already satisfied: torch in /usr/local/lib/python3.9/dist-packages (1.12.1+cu116)\n",
      "Requirement already satisfied: typing-extensions in /usr/local/lib/python3.9/dist-packages (from torch) (4.4.0)\n",
      "\u001b[33mWARNING: Running pip as the 'root' user can result in broken permissions and conflicting behaviour with the system package manager. It is recommended to use a virtual environment instead: https://pip.pypa.io/warnings/venv\u001b[0m\u001b[33m\n",
      "\u001b[0mCollecting torchmetrics\n",
      "  Downloading torchmetrics-1.4.1-py3-none-any.whl (866 kB)\n",
      "\u001b[2K     \u001b[90m━━━━━━━━━━━━━━━━━━━━━━━━━━━━━━━━━━━━━━\u001b[0m \u001b[32m866.2/866.2 kB\u001b[0m \u001b[31m21.3 MB/s\u001b[0m eta \u001b[36m0:00:00\u001b[0m00:01\u001b[0m\n",
      "\u001b[?25hRequirement already satisfied: numpy>1.20.0 in /usr/local/lib/python3.9/dist-packages (from torchmetrics) (1.23.4)\n",
      "Collecting lightning-utilities>=0.8.0\n",
      "  Downloading lightning_utilities-0.11.6-py3-none-any.whl (26 kB)\n",
      "Requirement already satisfied: torch>=1.10.0 in /usr/local/lib/python3.9/dist-packages (from torchmetrics) (1.12.1+cu116)\n",
      "Requirement already satisfied: packaging>17.1 in /usr/local/lib/python3.9/dist-packages (from torchmetrics) (23.0)\n",
      "Requirement already satisfied: setuptools in /usr/local/lib/python3.9/dist-packages (from lightning-utilities>=0.8.0->torchmetrics) (66.1.1)\n",
      "Requirement already satisfied: typing-extensions in /usr/local/lib/python3.9/dist-packages (from lightning-utilities>=0.8.0->torchmetrics) (4.4.0)\n",
      "Installing collected packages: lightning-utilities, torchmetrics\n",
      "Successfully installed lightning-utilities-0.11.6 torchmetrics-1.4.1\n",
      "\u001b[33mWARNING: Running pip as the 'root' user can result in broken permissions and conflicting behaviour with the system package manager. It is recommended to use a virtual environment instead: https://pip.pypa.io/warnings/venv\u001b[0m\u001b[33m\n",
      "\u001b[0mRequirement already satisfied: scikit-learn in /usr/local/lib/python3.9/dist-packages (1.1.2)\n",
      "Requirement already satisfied: scipy>=1.3.2 in /usr/local/lib/python3.9/dist-packages (from scikit-learn) (1.9.2)\n",
      "Requirement already satisfied: threadpoolctl>=2.0.0 in /usr/local/lib/python3.9/dist-packages (from scikit-learn) (3.1.0)\n",
      "Requirement already satisfied: joblib>=1.0.0 in /usr/local/lib/python3.9/dist-packages (from scikit-learn) (1.2.0)\n",
      "Requirement already satisfied: numpy>=1.17.3 in /usr/local/lib/python3.9/dist-packages (from scikit-learn) (1.23.4)\n",
      "\u001b[33mWARNING: Running pip as the 'root' user can result in broken permissions and conflicting behaviour with the system package manager. It is recommended to use a virtual environment instead: https://pip.pypa.io/warnings/venv\u001b[0m\u001b[33m\n",
      "\u001b[0m"
     ]
    }
   ],
   "source": [
    "!pip install torch\n",
    "!pip install torchmetrics\n",
    "!pip install scikit-learn"
   ]
  },
  {
   "cell_type": "markdown",
   "metadata": {},
   "source": [
    "# Imports\n",
    "Packages required for experiment"
   ]
  },
  {
   "cell_type": "code",
   "execution_count": 14,
   "metadata": {
    "execution": {
     "iopub.execute_input": "2024-08-21T20:36:40.698463Z",
     "iopub.status.busy": "2024-08-21T20:36:40.697594Z",
     "iopub.status.idle": "2024-08-21T20:36:40.702139Z",
     "shell.execute_reply": "2024-08-21T20:36:40.701604Z",
     "shell.execute_reply.started": "2024-08-21T20:36:40.698391Z"
    }
   },
   "outputs": [],
   "source": [
    "# General use for DL\n",
    "import torch\n",
    "\n",
    "# Used to split data\n",
    "from sklearn.model_selection import KFold\n",
    "\n",
    "# To loader dataset\n",
    "from torch.utils.data import DataLoader\n",
    "\n",
    "# Data Measurements\n",
    "from torchmetrics import JaccardIndex\n",
    "from torchmetrics import Dice\n",
    "\n",
    "# Dataset import\n",
    "from dataset import PolypsSegmentationDataset"
   ]
  },
  {
   "cell_type": "markdown",
   "metadata": {},
   "source": [
    "# Stopping Rule\n",
    "When this function returns a value less than 0.1 % = 0.001 then we know to stop training"
   ]
  },
  {
   "cell_type": "code",
   "execution_count": 6,
   "metadata": {
    "execution": {
     "iopub.execute_input": "2024-08-21T15:11:40.159257Z",
     "iopub.status.busy": "2024-08-21T15:11:40.158895Z",
     "iopub.status.idle": "2024-08-21T15:11:40.164831Z",
     "shell.execute_reply": "2024-08-21T15:11:40.164122Z",
     "shell.execute_reply.started": "2024-08-21T15:11:40.159232Z"
    }
   },
   "outputs": [],
   "source": [
    "# Finds percent change between previous and current loss\n",
    "# and if it is less than threshold return false\n",
    "def stopping_rule(L_k, L_k1, threshold):\n",
    "    return abs(L_k - L_k1) / L_k > threshold"
   ]
  },
  {
   "cell_type": "markdown",
   "metadata": {},
   "source": [
    "# Training Function\n"
   ]
  },
  {
   "cell_type": "code",
   "execution_count": 7,
   "metadata": {
    "execution": {
     "iopub.execute_input": "2024-08-21T15:11:40.166599Z",
     "iopub.status.busy": "2024-08-21T15:11:40.166254Z",
     "iopub.status.idle": "2024-08-21T15:11:40.172641Z",
     "shell.execute_reply": "2024-08-21T15:11:40.171980Z",
     "shell.execute_reply.started": "2024-08-21T15:11:40.166578Z"
    }
   },
   "outputs": [],
   "source": [
    "def train_model(model, loss_fn, device, train_loader, optimizer):\n",
    "    # Initalize loss\n",
    "    average_loss = 0\n",
    "    # Train on dataset\n",
    "    model.train()\n",
    "    for batch_idx, (X,y) in enumerate(train_loader):\n",
    "        # Get batch\n",
    "        image, mask = X.to(device), y.to(device)\n",
    "        # Get results\n",
    "        output = model(image)\n",
    "        # Compute loss\n",
    "        loss = loss_fn(output, mask)\n",
    "        average_loss += loss.item()\n",
    "        # Optimize model\n",
    "        optimizer.zero_grad()\n",
    "        loss.backward()\n",
    "        optimizer.step()\n",
    "    # Return average loss\n",
    "    return average_loss / len(train_loader)\n",
    "        \n",
    "        "
   ]
  },
  {
   "cell_type": "markdown",
   "metadata": {},
   "source": [
    "# Testing Function"
   ]
  },
  {
   "cell_type": "code",
   "execution_count": 8,
   "metadata": {
    "execution": {
     "iopub.execute_input": "2024-08-21T15:11:40.173836Z",
     "iopub.status.busy": "2024-08-21T15:11:40.173608Z",
     "iopub.status.idle": "2024-08-21T15:11:40.179542Z",
     "shell.execute_reply": "2024-08-21T15:11:40.178702Z",
     "shell.execute_reply.started": "2024-08-21T15:11:40.173816Z"
    }
   },
   "outputs": [],
   "source": [
    "def test_model(model, device, test_loader, jaccard, dice):\n",
    "    # Initalize average jaccard and dice\n",
    "    average_jaccard = 0\n",
    "    average_dice = 0\n",
    "    # Test the model\n",
    "    model.eval()\n",
    "    for batch_idx, (X,y) in enumerate(test_loader):\n",
    "        # Get batch\n",
    "        image, mask = X.to(device), y.to(device)\n",
    "        # Get results\n",
    "        output = model(image)\n",
    "        average_jaccard += jaccard(torch.where(output > 0.5, 1, 0),torch.where(mask > 0.50, 1, 0)).item()\n",
    "        average_dice += dice(torch.where(output > 0.5, 1, 0),torch.where(mask > 0.50, 1, 0)).item()\n",
    "    # Get average of dice and jaccard scores\n",
    "    average_jaccard /= len(test_loader)\n",
    "    average_dice /= len(test_loader)\n",
    "\n",
    "    # Return values\n",
    "    return average_jaccard, average_dice"
   ]
  },
  {
   "cell_type": "markdown",
   "metadata": {},
   "source": [
    "# Data Processing\n",
    "Importing the dataset into the Juypter Notebook enviroment for use"
   ]
  },
  {
   "cell_type": "code",
   "execution_count": 9,
   "metadata": {
    "execution": {
     "iopub.execute_input": "2024-08-21T15:11:40.180633Z",
     "iopub.status.busy": "2024-08-21T15:11:40.180405Z",
     "iopub.status.idle": "2024-08-21T15:11:40.217575Z",
     "shell.execute_reply": "2024-08-21T15:11:40.216895Z",
     "shell.execute_reply.started": "2024-08-21T15:11:40.180612Z"
    }
   },
   "outputs": [
    {
     "name": "stderr",
     "output_type": "stream",
     "text": [
      "100%|██████████| 1000/1000 [00:00<00:00, 477983.36it/s]\n",
      "100%|██████████| 1000/1000 [00:00<00:00, 488220.70it/s]\n"
     ]
    }
   ],
   "source": [
    "# Path to images and mask\n",
    "image_path = './Kvasir-SEG'\n",
    "# U-Net we are using takes 3 x 256 x 256 images\n",
    "size = 256\n",
    "# Importing the dataset\n",
    "dataset = PolypsSegmentationDataset(image_path,size)"
   ]
  },
  {
   "cell_type": "markdown",
   "metadata": {},
   "source": [
    "Loading preliminary variables for the experiment:\n",
    "- Jaccard score\n",
    "- Dice score\n",
    "- Loss fuction\n",
    "- Device\n",
    "- KFold\n",
    "- Batch size\n",
    "- Stopping threshold"
   ]
  },
  {
   "cell_type": "code",
   "execution_count": 22,
   "metadata": {
    "execution": {
     "iopub.execute_input": "2024-08-21T23:38:37.317425Z",
     "iopub.status.busy": "2024-08-21T23:38:37.316459Z",
     "iopub.status.idle": "2024-08-21T23:38:37.340916Z",
     "shell.execute_reply": "2024-08-21T23:38:37.340043Z",
     "shell.execute_reply.started": "2024-08-21T23:38:37.317395Z"
    }
   },
   "outputs": [],
   "source": [
    "## Preliminary variables ##\n",
    "\n",
    "# Specifies whether to train on GPU or CPU\n",
    "device = 'cuda' if torch.cuda.is_available() else 'cpu'\n",
    "\n",
    "# Loss for training\n",
    "loss_fn = torch.nn.BCELoss()\n",
    "\n",
    "# Measurements\n",
    "jaccard = JaccardIndex(task='multiclass', num_classes = 2, average = 'micro').to(device)\n",
    "dice = Dice(num_classes = 2, average = 'micro').to(device)\n",
    "\n",
    "# K-Fold object for splitting dataset, randomizes batches (shuffle = True)\n",
    "splits = 5\n",
    "kf = KFold(splits, shuffle=True)\n",
    "\n",
    "# Batch Size\n",
    "BATCH_SIZE = 16\n",
    "\n",
    "# Stopping threshold\n",
    "threshold = 0.001\n",
    "\n",
    "# Speeds up training\n",
    "num_workers = 8\n",
    "\n"
   ]
  },
  {
   "cell_type": "markdown",
   "metadata": {},
   "source": [
    "# Base Model and Metrics\n",
    "First we must create a baseline result to compare to. Using K-fold validation we will train 5 seperate models:\n",
    "1. Using K-fold validation we will attain 5 splits of 20% of the dataset {A,B,C,D,E}\n",
    "2. We stash away one of the splits, ex. A, for testing and train on the remaining 4 splits until we reach the stopping rule\n",
    "3. Test the train model on the test splits and save the Jaccard and Dice scores\n",
    "4. Repeat the previous steps but stash away a different split, ex. B,C,D, or E, until we have tested on all splits.\n",
    "5. Take the average of all the Dice and Jaccard scores to achieve the baseline results\n",
    "\n",
    "To optimize the model we will begin our learning rate at 0.01, use Cosine Annealing LR to decay the learning rate, and the Adam method of optimization.\n",
    "\n",
    "After the experiment is done we will save the indices of each fold and the baseline metrics to use in semi-automatic segmentation"
   ]
  },
  {
   "cell_type": "code",
   "execution_count": 23,
   "metadata": {
    "execution": {
     "iopub.execute_input": "2024-08-21T23:38:38.330728Z",
     "iopub.status.busy": "2024-08-21T23:38:38.330026Z",
     "iopub.status.idle": "2024-08-22T01:19:49.387159Z",
     "shell.execute_reply": "2024-08-22T01:19:49.386142Z",
     "shell.execute_reply.started": "2024-08-21T23:38:38.330698Z"
    }
   },
   "outputs": [
    {
     "name": "stderr",
     "output_type": "stream",
     "text": [
      "Using cache found in /root/.cache/torch/hub/mateuszbuda_brain-segmentation-pytorch_master\n"
     ]
    },
    {
     "name": "stdout",
     "output_type": "stream",
     "text": [
      "Iterations:109 | Loss: 0.006645286111161113\n"
     ]
    },
    {
     "name": "stderr",
     "output_type": "stream",
     "text": [
      "Using cache found in /root/.cache/torch/hub/mateuszbuda_brain-segmentation-pytorch_master\n"
     ]
    },
    {
     "name": "stdout",
     "output_type": "stream",
     "text": [
      "Iterations:142 | Loss: 0.006032560570165515\n"
     ]
    },
    {
     "name": "stderr",
     "output_type": "stream",
     "text": [
      "Using cache found in /root/.cache/torch/hub/mateuszbuda_brain-segmentation-pytorch_master\n"
     ]
    },
    {
     "name": "stdout",
     "output_type": "stream",
     "text": [
      "Iterations:111 | Loss: 0.00680179881863296\n"
     ]
    },
    {
     "name": "stderr",
     "output_type": "stream",
     "text": [
      "Using cache found in /root/.cache/torch/hub/mateuszbuda_brain-segmentation-pytorch_master\n"
     ]
    },
    {
     "name": "stdout",
     "output_type": "stream",
     "text": [
      "Iterations:3 | Loss: 0.3555883002281189\n"
     ]
    },
    {
     "name": "stderr",
     "output_type": "stream",
     "text": [
      "Using cache found in /root/.cache/torch/hub/mateuszbuda_brain-segmentation-pytorch_master\n"
     ]
    },
    {
     "name": "stdout",
     "output_type": "stream",
     "text": [
      "Iterations:54 | Loss: 0.014223139751702547\n",
      "Baseline Jaccard: 0.837992540689615\n",
      "Baseline Dice: 0.9100614694448617\n"
     ]
    }
   ],
   "source": [
    "# Dictionary to save each fold\n",
    "fold_name = ['A','B','C','D','E'] # To save indicies of each fold\n",
    "fold_dict = {}\n",
    "# Initialize Jaccard and Dice\n",
    "average_jaccard = 0\n",
    "average_dice = 0\n",
    "\n",
    "# Split dataset and determine baseline jaccard and dice\n",
    "for fold, (train_idx, test_idx) in enumerate(kf.split(dataset)):\n",
    "    \n",
    "    ## Initialize the datasets ##\n",
    "    \n",
    "    # Get train loader for fold\n",
    "    train_loader = DataLoader(\n",
    "        dataset=dataset,\n",
    "        batch_size=BATCH_SIZE,\n",
    "        sampler=torch.utils.data.SubsetRandomSampler(train_idx),\n",
    "        num_workers = num_workers\n",
    "    )\n",
    "    # Get test loader for fold\n",
    "    test_loader = DataLoader(\n",
    "        dataset=dataset,\n",
    "        batch_size=BATCH_SIZE,\n",
    "        sampler=torch.utils.data.SubsetRandomSampler(test_idx),\n",
    "        num_workers = num_workers\n",
    "    )\n",
    "    \n",
    "    # Save indices in dictionary for future experiments\n",
    "    fold_dict.update({fold_name[fold] : [train_idx, test_idx]})\n",
    "    \n",
    "    ## Initialize the model ##\n",
    "\n",
    "    # Loading an untrained model to GPU/CPU\n",
    "    model = torch.hub.load('mateuszbuda/brain-segmentation-pytorch', 'unet',\n",
    "        in_channels=3, out_channels=1, init_features=64, pretrained=False, trust_repo=True).to(device)\n",
    "    # We will begin our learning rate at 0.01 \n",
    "    lr = 0.01\n",
    "    # Optimizer for model\n",
    "    optimizer = torch.optim.Adam(model.parameters(), lr)\n",
    "    scheduler = torch.optim.lr_scheduler.CosineAnnealingLR(optimizer,25)\n",
    "    \n",
    "    ## Initialize the training ##\n",
    "    \n",
    "    # Initialize previous and current loss for stopping rule\n",
    "    \n",
    "    L_k = 1 # Previous loss\n",
    "    L_k1 = 2 # Current loss\n",
    "    \n",
    "    counter = 0\n",
    "    # Train model until stopping rule is reached\n",
    "    while(stopping_rule(L_k, L_k1, threshold)):\n",
    "        # Assign previous loss for next iteration\n",
    "        L_k = L_k1\n",
    "        # Train model and compute loss\n",
    "        L_k1 = train_model(model, loss_fn, device, train_loader, optimizer)\n",
    "        counter += 1\n",
    "    # To determine in threshold is too low\n",
    "    print(f\"Iterations:{counter} | Loss: {L_k1}\")\n",
    "    # Test model on remaining splits\n",
    "    jaccard_i, dice_i = test_model(model, device, test_loader, jaccard, dice)\n",
    "    average_jaccard += jaccard_i\n",
    "    average_dice += dice_i\n",
    "\n",
    "# Take average of jaccard and dice of all 5 models\n",
    "average_jaccard /= 5    \n",
    "average_dice /= 5\n",
    "\n",
    "# Print results\n",
    "print(f\"Baseline Jaccard: {average_jaccard}\")\n",
    "print(f\"Baseline Dice: {average_dice}\")\n",
    "\n",
    "# Save the indicies and baseline scores into a state dict for future use\n",
    "name = 'baseline.pt'\n",
    "state = {\n",
    "    'fold_dict' : fold_dict,\n",
    "    'baseline_jaccard' : average_jaccard,\n",
    "    'baseline_dice' : average_dice\n",
    "}\n",
    "torch.save(state, f = name)"
   ]
  },
  {
   "cell_type": "code",
   "execution_count": null,
   "metadata": {},
   "outputs": [],
   "source": []
  }
 ],
 "metadata": {
  "kernelspec": {
   "display_name": "Python 3 (ipykernel)",
   "language": "python",
   "name": "python3"
  },
  "language_info": {
   "codemirror_mode": {
    "name": "ipython",
    "version": 3
   },
   "file_extension": ".py",
   "mimetype": "text/x-python",
   "name": "python",
   "nbconvert_exporter": "python",
   "pygments_lexer": "ipython3",
   "version": "3.9.16"
  }
 },
 "nbformat": 4,
 "nbformat_minor": 4
}
