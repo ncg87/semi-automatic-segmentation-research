{
 "cells": [
  {
   "cell_type": "code",
   "execution_count": 1,
   "metadata": {
    "execution": {
     "iopub.execute_input": "2024-10-07T20:43:32.181513Z",
     "iopub.status.busy": "2024-10-07T20:43:32.180969Z",
     "iopub.status.idle": "2024-10-07T20:43:36.930178Z",
     "shell.execute_reply": "2024-10-07T20:43:36.929577Z",
     "shell.execute_reply.started": "2024-10-07T20:43:32.181493Z"
    }
   },
   "outputs": [
    {
     "name": "stdout",
     "output_type": "stream",
     "text": [
      "Requirement already satisfied: torch in /usr/local/lib/python3.11/dist-packages (2.1.1+cu121)\n",
      "Requirement already satisfied: filelock in /usr/local/lib/python3.11/dist-packages (from torch) (3.13.1)\n",
      "Requirement already satisfied: typing-extensions in /usr/local/lib/python3.11/dist-packages (from torch) (4.9.0)\n",
      "Requirement already satisfied: sympy in /usr/local/lib/python3.11/dist-packages (from torch) (1.12)\n",
      "Requirement already satisfied: networkx in /usr/local/lib/python3.11/dist-packages (from torch) (3.2.1)\n",
      "Requirement already satisfied: jinja2 in /usr/local/lib/python3.11/dist-packages (from torch) (3.1.3)\n",
      "Requirement already satisfied: fsspec in /usr/local/lib/python3.11/dist-packages (from torch) (2023.6.0)\n",
      "Requirement already satisfied: triton==2.1.0 in /usr/local/lib/python3.11/dist-packages (from torch) (2.1.0)\n",
      "Requirement already satisfied: MarkupSafe>=2.0 in /usr/local/lib/python3.11/dist-packages (from jinja2->torch) (2.1.4)\n",
      "Requirement already satisfied: mpmath>=0.19 in /usr/local/lib/python3.11/dist-packages (from sympy->torch) (1.3.0)\n",
      "\u001b[33mWARNING: Running pip as the 'root' user can result in broken permissions and conflicting behaviour with the system package manager. It is recommended to use a virtual environment instead: https://pip.pypa.io/warnings/venv\u001b[0m\u001b[33m\n",
      "\u001b[0mRequirement already satisfied: torchmetrics in /usr/local/lib/python3.11/dist-packages (1.4.2)\n",
      "Requirement already satisfied: numpy>1.20.0 in /usr/local/lib/python3.11/dist-packages (from torchmetrics) (1.26.3)\n",
      "Requirement already satisfied: packaging>17.1 in /usr/local/lib/python3.11/dist-packages (from torchmetrics) (23.2)\n",
      "Requirement already satisfied: torch>=1.10.0 in /usr/local/lib/python3.11/dist-packages (from torchmetrics) (2.1.1+cu121)\n",
      "Requirement already satisfied: lightning-utilities>=0.8.0 in /usr/local/lib/python3.11/dist-packages (from torchmetrics) (0.11.7)\n",
      "Requirement already satisfied: setuptools in /usr/local/lib/python3.11/dist-packages (from lightning-utilities>=0.8.0->torchmetrics) (69.0.3)\n",
      "Requirement already satisfied: typing-extensions in /usr/local/lib/python3.11/dist-packages (from lightning-utilities>=0.8.0->torchmetrics) (4.9.0)\n",
      "Requirement already satisfied: filelock in /usr/local/lib/python3.11/dist-packages (from torch>=1.10.0->torchmetrics) (3.13.1)\n",
      "Requirement already satisfied: sympy in /usr/local/lib/python3.11/dist-packages (from torch>=1.10.0->torchmetrics) (1.12)\n",
      "Requirement already satisfied: networkx in /usr/local/lib/python3.11/dist-packages (from torch>=1.10.0->torchmetrics) (3.2.1)\n",
      "Requirement already satisfied: jinja2 in /usr/local/lib/python3.11/dist-packages (from torch>=1.10.0->torchmetrics) (3.1.3)\n",
      "Requirement already satisfied: fsspec in /usr/local/lib/python3.11/dist-packages (from torch>=1.10.0->torchmetrics) (2023.6.0)\n",
      "Requirement already satisfied: triton==2.1.0 in /usr/local/lib/python3.11/dist-packages (from torch>=1.10.0->torchmetrics) (2.1.0)\n",
      "Requirement already satisfied: MarkupSafe>=2.0 in /usr/local/lib/python3.11/dist-packages (from jinja2->torch>=1.10.0->torchmetrics) (2.1.4)\n",
      "Requirement already satisfied: mpmath>=0.19 in /usr/local/lib/python3.11/dist-packages (from sympy->torch>=1.10.0->torchmetrics) (1.3.0)\n",
      "\u001b[33mWARNING: Running pip as the 'root' user can result in broken permissions and conflicting behaviour with the system package manager. It is recommended to use a virtual environment instead: https://pip.pypa.io/warnings/venv\u001b[0m\u001b[33m\n",
      "\u001b[0m"
     ]
    }
   ],
   "source": [
    "!pip install torch\n",
    "!pip install torchmetrics"
   ]
  },
  {
   "cell_type": "markdown",
   "metadata": {},
   "source": [
    "# Imports\n",
    "Packages required for experiment"
   ]
  },
  {
   "cell_type": "code",
   "execution_count": 2,
   "metadata": {
    "execution": {
     "iopub.execute_input": "2024-10-07T20:43:36.931749Z",
     "iopub.status.busy": "2024-10-07T20:43:36.931318Z",
     "iopub.status.idle": "2024-10-07T20:43:39.402134Z",
     "shell.execute_reply": "2024-10-07T20:43:39.401542Z",
     "shell.execute_reply.started": "2024-10-07T20:43:36.931701Z"
    }
   },
   "outputs": [],
   "source": [
    "# General use for DL\n",
    "import torch\n",
    "import numpy as np\n",
    "\n",
    "# To loader dataset\n",
    "from torch.utils.data import DataLoader\n",
    "\n",
    "# Data Measurements\n",
    "from torchmetrics import JaccardIndex\n",
    "from torchmetrics import Dice\n",
    "\n",
    "# Dataset import\n",
    "from dataset import BUIDSegmentationDataset\n",
    "from base_dataset import BaseDataset"
   ]
  },
  {
   "cell_type": "markdown",
   "metadata": {},
   "source": [
    "# Stopping Rule\n",
    "When this function returns a value less than 0.1 % = 0.001 then we know to stop training"
   ]
  },
  {
   "cell_type": "code",
   "execution_count": 3,
   "metadata": {
    "execution": {
     "iopub.execute_input": "2024-10-07T20:43:39.403217Z",
     "iopub.status.busy": "2024-10-07T20:43:39.402939Z",
     "iopub.status.idle": "2024-10-07T20:43:39.405842Z",
     "shell.execute_reply": "2024-10-07T20:43:39.405418Z",
     "shell.execute_reply.started": "2024-10-07T20:43:39.403199Z"
    }
   },
   "outputs": [],
   "source": [
    "# Finds percent change between previous and current loss\n",
    "# and if it is less than threshold return false\n",
    "def stopping_rule(L_k, L_k1, threshold):\n",
    "    return abs(L_k - L_k1) / L_k > threshold"
   ]
  },
  {
   "cell_type": "code",
   "execution_count": 4,
   "metadata": {
    "execution": {
     "iopub.execute_input": "2024-10-07T20:43:39.407416Z",
     "iopub.status.busy": "2024-10-07T20:43:39.406863Z",
     "iopub.status.idle": "2024-10-07T20:43:39.409520Z",
     "shell.execute_reply": "2024-10-07T20:43:39.409169Z",
     "shell.execute_reply.started": "2024-10-07T20:43:39.407397Z"
    }
   },
   "outputs": [],
   "source": [
    "# Calculates the moving average\n",
    "def moving_avg(alpha, L_MA, L_k):\n",
    "    return alpha * L_MA + (1-alpha) * L_k"
   ]
  },
  {
   "cell_type": "markdown",
   "metadata": {},
   "source": [
    "# Training Function"
   ]
  },
  {
   "cell_type": "code",
   "execution_count": 5,
   "metadata": {
    "execution": {
     "iopub.execute_input": "2024-10-07T20:43:39.410522Z",
     "iopub.status.busy": "2024-10-07T20:43:39.410063Z",
     "iopub.status.idle": "2024-10-07T20:43:39.413353Z",
     "shell.execute_reply": "2024-10-07T20:43:39.413027Z",
     "shell.execute_reply.started": "2024-10-07T20:43:39.410505Z"
    }
   },
   "outputs": [],
   "source": [
    "def train_model(model, loss_fn, device, train_loader, optimizer):\n",
    "    # Initalize loss\n",
    "    average_loss = 0\n",
    "    # Train on dataset\n",
    "    model.train()\n",
    "    for batch_idx, (X,y) in enumerate(train_loader):\n",
    "        # Get batch\n",
    "        image, mask = X.to(device), y.to(device)\n",
    "        # Get results\n",
    "        output = model(image)\n",
    "        # Compute loss\n",
    "        loss = loss_fn(output, mask)\n",
    "        average_loss += loss.item()\n",
    "        # Optimize model\n",
    "        optimizer.zero_grad()\n",
    "        loss.backward()\n",
    "        optimizer.step()\n",
    "    # Return average loss\n",
    "    return average_loss / len(train_loader)"
   ]
  },
  {
   "cell_type": "markdown",
   "metadata": {},
   "source": [
    "Specify hyperparameters"
   ]
  },
  {
   "cell_type": "code",
   "execution_count": 6,
   "metadata": {
    "execution": {
     "iopub.execute_input": "2024-10-07T20:43:39.414317Z",
     "iopub.status.busy": "2024-10-07T20:43:39.413877Z",
     "iopub.status.idle": "2024-10-07T20:43:42.501706Z",
     "shell.execute_reply": "2024-10-07T20:43:42.501272Z",
     "shell.execute_reply.started": "2024-10-07T20:43:39.414300Z"
    }
   },
   "outputs": [],
   "source": [
    "## Preliminary variables ##\n",
    "\n",
    "# Specifies whether to train on GPU or CPU\n",
    "device = 'cuda' if torch.cuda.is_available() else 'cpu'\n",
    "\n",
    "# Loss for training\n",
    "loss_fn = torch.nn.BCELoss()\n",
    "\n",
    "# Measurements\n",
    "jaccard = JaccardIndex(task='multiclass', num_classes = 2, average = 'micro').to(device)\n",
    "dice = Dice(num_classes = 2, average = 'micro').to(device)\n",
    "\n",
    "# Batch Size\n",
    "BATCH_SIZE = 16\n",
    "\n",
    "# Stopping threshold\n",
    "threshold = 0.001\n",
    "\n",
    "# Speeds up training\n",
    "num_workers = 8\n",
    "\n",
    "# Alpha for EMA\n",
    "alpha = 0.9"
   ]
  },
  {
   "cell_type": "markdown",
   "metadata": {},
   "source": [
    "# Get Masks\n",
    "Function to extracts iamges and masks of given indices"
   ]
  },
  {
   "cell_type": "code",
   "execution_count": 7,
   "metadata": {
    "execution": {
     "iopub.execute_input": "2024-10-07T20:43:42.502834Z",
     "iopub.status.busy": "2024-10-07T20:43:42.502284Z",
     "iopub.status.idle": "2024-10-07T20:43:42.505301Z",
     "shell.execute_reply": "2024-10-07T20:43:42.504976Z",
     "shell.execute_reply.started": "2024-10-07T20:43:42.502815Z"
    }
   },
   "outputs": [],
   "source": [
    "def get_masks(indices, dataset):\n",
    "    masks = []\n",
    "    images = []\n",
    "    for i in indices:\n",
    "        image, mask = dataset.__getitem__(i)\n",
    "        images.append(image)\n",
    "        masks.append(mask)\n",
    "    return images, masks\n",
    "    "
   ]
  },
  {
   "cell_type": "markdown",
   "metadata": {},
   "source": [
    "# Create Masks\n",
    "Function to create masks of given images"
   ]
  },
  {
   "cell_type": "code",
   "execution_count": 8,
   "metadata": {
    "execution": {
     "iopub.execute_input": "2024-10-07T20:43:42.506296Z",
     "iopub.status.busy": "2024-10-07T20:43:42.505798Z",
     "iopub.status.idle": "2024-10-07T20:43:42.509497Z",
     "shell.execute_reply": "2024-10-07T20:43:42.509187Z",
     "shell.execute_reply.started": "2024-10-07T20:43:42.506237Z"
    }
   },
   "outputs": [],
   "source": [
    "def create_masks(model, device, loader):\n",
    "    # Initialize \n",
    "    masks = []\n",
    "    images = []\n",
    "    # Create masks\n",
    "    model.eval()\n",
    "    for batch_idx, (X,y) in enumerate(loader):\n",
    "        # Get batch\n",
    "        image, mask = X.to(device), y.to(device)\n",
    "        # Get results\n",
    "        output = model(image)\n",
    "        # Detach from CPU and squeeze batch(1) dimension\n",
    "        masks.append(output.detach().cpu().squeeze(0))\n",
    "        images.append(image.detach().cpu().squeeze(0))\n",
    "    # Segmented masks\n",
    "    return images, masks"
   ]
  },
  {
   "cell_type": "markdown",
   "metadata": {},
   "source": [
    "# Testing Function"
   ]
  },
  {
   "cell_type": "code",
   "execution_count": 9,
   "metadata": {
    "execution": {
     "iopub.execute_input": "2024-10-07T20:43:42.510180Z",
     "iopub.status.busy": "2024-10-07T20:43:42.509933Z",
     "iopub.status.idle": "2024-10-07T20:43:42.513452Z",
     "shell.execute_reply": "2024-10-07T20:43:42.513097Z",
     "shell.execute_reply.started": "2024-10-07T20:43:42.510180Z"
    }
   },
   "outputs": [],
   "source": [
    "def test_model(model, device, test_loader, jaccard, dice):\n",
    "    # Initalize average jaccard and dice\n",
    "    average_jaccard = 0\n",
    "    average_dice = 0\n",
    "    # Test the model\n",
    "    model.eval()\n",
    "    for batch_idx, (X,y) in enumerate(test_loader):\n",
    "        # Get batch\n",
    "        image, mask = X.to(device), y.to(device)\n",
    "        # Get results\n",
    "        output = model(image)\n",
    "        average_jaccard += jaccard(torch.where(output > 0.5, 1, 0),torch.where(mask > 0.50, 1, 0)).item()\n",
    "        average_dice += dice(torch.where(output > 0.5, 1, 0),torch.where(mask > 0.50, 1, 0)).item()\n",
    "    # Get average of dice and jaccard scores\n",
    "    average_jaccard /= len(test_loader)\n",
    "    average_dice /= len(test_loader)\n",
    "\n",
    "    # Return values\n",
    "    return average_jaccard, average_dice"
   ]
  },
  {
   "cell_type": "markdown",
   "metadata": {},
   "source": [
    "# Data Processing\n",
    "Importing the dataset into the Juypter Notebook enviroment for use"
   ]
  },
  {
   "cell_type": "code",
   "execution_count": 10,
   "metadata": {
    "execution": {
     "iopub.execute_input": "2024-10-07T20:43:42.514839Z",
     "iopub.status.busy": "2024-10-07T20:43:42.514380Z",
     "iopub.status.idle": "2024-10-07T20:43:42.522386Z",
     "shell.execute_reply": "2024-10-07T20:43:42.521982Z",
     "shell.execute_reply.started": "2024-10-07T20:43:42.514839Z"
    }
   },
   "outputs": [],
   "source": [
    "# Path to images and mask\n",
    "root_dir = './BUID'\n",
    "# U-Net we are using takes 3 x 256 x 256 images\n",
    "size = 256\n",
    "# Importing the dataset\n",
    "dataset = BUIDSegmentationDataset(root_dir, size)\n"
   ]
  },
  {
   "cell_type": "markdown",
   "metadata": {},
   "source": [
    "# Load data\n",
    "Load the baseline data and indices splits from previous stage."
   ]
  },
  {
   "cell_type": "code",
   "execution_count": 11,
   "metadata": {
    "execution": {
     "iopub.execute_input": "2024-10-07T20:43:42.523372Z",
     "iopub.status.busy": "2024-10-07T20:43:42.522919Z",
     "iopub.status.idle": "2024-10-07T20:43:42.530056Z",
     "shell.execute_reply": "2024-10-07T20:43:42.529646Z",
     "shell.execute_reply.started": "2024-10-07T20:43:42.523354Z"
    }
   },
   "outputs": [],
   "source": [
    "# File name\n",
    "name = 'baseline.pt'\n",
    "baseline = torch.load(f=name)\n",
    "# Extract indices and baseline jaccard and dice scores\n",
    "all_indices = baseline['fold_dict']\n",
    "baseline_jaccard = baseline['baseline_jaccard']\n",
    "baseline_dice = baseline['baseline_dice']"
   ]
  },
  {
   "cell_type": "markdown",
   "metadata": {},
   "source": [
    "# Create new dataset\n",
    "Using the model trained on a partition we will create masks the remaining data from the train partition."
   ]
  },
  {
   "cell_type": "code",
   "execution_count": null,
   "metadata": {
    "execution": {
     "iopub.execute_input": "2024-10-07T20:43:42.531098Z",
     "iopub.status.busy": "2024-10-07T20:43:42.530631Z"
    }
   },
   "outputs": [
    {
     "name": "stderr",
     "output_type": "stream",
     "text": [
      "Using cache found in /root/.cache/torch/hub/mateuszbuda_brain-segmentation-pytorch_master\n"
     ]
    },
    {
     "name": "stdout",
     "output_type": "stream",
     "text": [
      "95\n",
      "Split:A|Partition:0.1|NewJaccard:0.8672114312648773|OGJaccard:0.8460275053977966|NewDice:0.9286053955554963|OGDice:0.9164737701416016\n"
     ]
    },
    {
     "name": "stderr",
     "output_type": "stream",
     "text": [
      "Using cache found in /root/.cache/torch/hub/mateuszbuda_brain-segmentation-pytorch_master\n"
     ]
    },
    {
     "name": "stdout",
     "output_type": "stream",
     "text": [
      "104\n",
      "Split:A|Partition:0.2|NewJaccard:0.8734017372131347|OGJaccard:0.8686314165592194|NewDice:0.9320660591125488|OGDice:0.9295298278331756\n"
     ]
    },
    {
     "name": "stderr",
     "output_type": "stream",
     "text": [
      "Using cache found in /root/.cache/torch/hub/mateuszbuda_brain-segmentation-pytorch_master\n"
     ]
    },
    {
     "name": "stdout",
     "output_type": "stream",
     "text": [
      "104\n",
      "Split:A|Partition:0.3|NewJaccard:0.900985598564148|OGJaccard:0.8930659413337707|NewDice:0.9477347075939179|OGDice:0.9431972205638885\n"
     ]
    },
    {
     "name": "stderr",
     "output_type": "stream",
     "text": [
      "Using cache found in /root/.cache/torch/hub/mateuszbuda_brain-segmentation-pytorch_master\n"
     ]
    },
    {
     "name": "stdout",
     "output_type": "stream",
     "text": [
      "180\n",
      "Split:A|Partition:0.4|NewJaccard:0.8998079001903534|OGJaccard:0.8934301137924194|NewDice:0.9470205962657928|OGDice:0.9433905601501464\n"
     ]
    },
    {
     "name": "stderr",
     "output_type": "stream",
     "text": [
      "Using cache found in /root/.cache/torch/hub/mateuszbuda_brain-segmentation-pytorch_master\n"
     ]
    },
    {
     "name": "stdout",
     "output_type": "stream",
     "text": [
      "53\n",
      "Split:A|Partition:0.5|NewJaccard:0.9061295866966248|OGJaccard:0.9102159023284913|NewDice:0.9504400253295898|OGDice:0.952603530883789\n"
     ]
    },
    {
     "name": "stderr",
     "output_type": "stream",
     "text": [
      "Using cache found in /root/.cache/torch/hub/mateuszbuda_brain-segmentation-pytorch_master\n"
     ]
    },
    {
     "name": "stdout",
     "output_type": "stream",
     "text": [
      "176\n",
      "Split:A|Partition:0.6|NewJaccard:0.9086047232151031|OGJaccard:0.9109900891780853|NewDice:0.9519734084606171|OGDice:0.9532379150390625\n"
     ]
    },
    {
     "name": "stderr",
     "output_type": "stream",
     "text": [
      "Using cache found in /root/.cache/torch/hub/mateuszbuda_brain-segmentation-pytorch_master\n"
     ]
    },
    {
     "name": "stdout",
     "output_type": "stream",
     "text": [
      "82\n",
      "Split:A|Partition:0.7|NewJaccard:0.9029858469963074|OGJaccard:0.9092088997364044|NewDice:0.9484447777271271|OGDice:0.9521798133850098\n"
     ]
    },
    {
     "name": "stderr",
     "output_type": "stream",
     "text": [
      "Using cache found in /root/.cache/torch/hub/mateuszbuda_brain-segmentation-pytorch_master\n"
     ]
    },
    {
     "name": "stdout",
     "output_type": "stream",
     "text": [
      "166\n",
      "Split:B|Partition:0.1|NewJaccard:0.8753970265388489|OGJaccard:0.86333127617836|NewDice:0.9334462463855744|OGDice:0.9264231383800506\n"
     ]
    },
    {
     "name": "stderr",
     "output_type": "stream",
     "text": [
      "Using cache found in /root/.cache/torch/hub/mateuszbuda_brain-segmentation-pytorch_master\n"
     ]
    },
    {
     "name": "stdout",
     "output_type": "stream",
     "text": [
      "139\n",
      "Split:B|Partition:0.2|NewJaccard:0.9019554555416107|OGJaccard:0.891900897026062|NewDice:0.9482815444469452|OGDice:0.9427349388599395\n"
     ]
    },
    {
     "name": "stderr",
     "output_type": "stream",
     "text": [
      "Using cache found in /root/.cache/torch/hub/mateuszbuda_brain-segmentation-pytorch_master\n"
     ]
    },
    {
     "name": "stdout",
     "output_type": "stream",
     "text": [
      "159\n",
      "Split:B|Partition:0.3|NewJaccard:0.9202809631824493|OGJaccard:0.9102275788784027|NewDice:0.9582464218139648|OGDice:0.9529102981090546\n"
     ]
    },
    {
     "name": "stderr",
     "output_type": "stream",
     "text": [
      "Using cache found in /root/.cache/torch/hub/mateuszbuda_brain-segmentation-pytorch_master\n"
     ]
    },
    {
     "name": "stdout",
     "output_type": "stream",
     "text": [
      "295\n",
      "Split:B|Partition:0.4|NewJaccard:0.9361911892890931|OGJaccard:0.9310519218444824|NewDice:0.9669740974903107|OGDice:0.9641994774341583\n"
     ]
    },
    {
     "name": "stderr",
     "output_type": "stream",
     "text": [
      "Using cache found in /root/.cache/torch/hub/mateuszbuda_brain-segmentation-pytorch_master\n"
     ]
    },
    {
     "name": "stdout",
     "output_type": "stream",
     "text": [
      "178\n",
      "Split:B|Partition:0.5|NewJaccard:0.9379238665103913|OGJaccard:0.9317119181156158|NewDice:0.967889529466629|OGDice:0.9645150184631348\n"
     ]
    },
    {
     "name": "stderr",
     "output_type": "stream",
     "text": [
      "Using cache found in /root/.cache/torch/hub/mateuszbuda_brain-segmentation-pytorch_master\n"
     ]
    },
    {
     "name": "stdout",
     "output_type": "stream",
     "text": [
      "149\n",
      "Split:B|Partition:0.6|NewJaccard:0.9341915428638459|OGJaccard:0.935376501083374|NewDice:0.9658273041248322|OGDice:0.9665213882923126\n"
     ]
    },
    {
     "name": "stderr",
     "output_type": "stream",
     "text": [
      "Using cache found in /root/.cache/torch/hub/mateuszbuda_brain-segmentation-pytorch_master\n"
     ]
    },
    {
     "name": "stdout",
     "output_type": "stream",
     "text": [
      "181\n",
      "Split:B|Partition:0.7|NewJaccard:0.9380175173282623|OGJaccard:0.9324437916278839|NewDice:0.9678819954395295|OGDice:0.9649609863758087\n"
     ]
    },
    {
     "name": "stderr",
     "output_type": "stream",
     "text": [
      "Using cache found in /root/.cache/torch/hub/mateuszbuda_brain-segmentation-pytorch_master\n"
     ]
    },
    {
     "name": "stdout",
     "output_type": "stream",
     "text": [
      "135\n",
      "Split:C|Partition:0.1|NewJaccard:0.8638936340808868|OGJaccard:0.852782028913498|NewDice:0.9268801033496856|OGDice:0.9202640533447266\n"
     ]
    },
    {
     "name": "stderr",
     "output_type": "stream",
     "text": [
      "Using cache found in /root/.cache/torch/hub/mateuszbuda_brain-segmentation-pytorch_master\n"
     ]
    },
    {
     "name": "stdout",
     "output_type": "stream",
     "text": [
      "127\n",
      "Split:C|Partition:0.2|NewJaccard:0.8696028411388397|OGJaccard:0.8524227738380432|NewDice:0.9299839973449707|OGDice:0.9199829399585724\n"
     ]
    },
    {
     "name": "stderr",
     "output_type": "stream",
     "text": [
      "Using cache found in /root/.cache/torch/hub/mateuszbuda_brain-segmentation-pytorch_master\n"
     ]
    },
    {
     "name": "stdout",
     "output_type": "stream",
     "text": [
      "161\n",
      "Split:C|Partition:0.3|NewJaccard:0.8815026879310608|OGJaccard:0.8639395058155059|NewDice:0.936619633436203|OGDice:0.9265961349010468\n"
     ]
    },
    {
     "name": "stderr",
     "output_type": "stream",
     "text": [
      "Using cache found in /root/.cache/torch/hub/mateuszbuda_brain-segmentation-pytorch_master\n"
     ]
    },
    {
     "name": "stdout",
     "output_type": "stream",
     "text": [
      "199\n",
      "Split:C|Partition:0.4|NewJaccard:0.8918827056884766|OGJaccard:0.8869680285453796|NewDice:0.9427349090576171|OGDice:0.9395377814769745\n"
     ]
    },
    {
     "name": "stderr",
     "output_type": "stream",
     "text": [
      "Using cache found in /root/.cache/torch/hub/mateuszbuda_brain-segmentation-pytorch_master\n"
     ]
    },
    {
     "name": "stdout",
     "output_type": "stream",
     "text": [
      "105\n",
      "Split:C|Partition:0.5|NewJaccard:0.8981361389160156|OGJaccard:0.895977133512497|NewDice:0.9460402190685272|OGDice:0.9450104057788848\n"
     ]
    },
    {
     "name": "stderr",
     "output_type": "stream",
     "text": [
      "Using cache found in /root/.cache/torch/hub/mateuszbuda_brain-segmentation-pytorch_master\n"
     ]
    },
    {
     "name": "stdout",
     "output_type": "stream",
     "text": [
      "189\n",
      "Split:C|Partition:0.6|NewJaccard:0.9072723925113678|OGJaccard:0.904334819316864|NewDice:0.951031494140625|OGDice:0.9494717597961426\n"
     ]
    },
    {
     "name": "stderr",
     "output_type": "stream",
     "text": [
      "Using cache found in /root/.cache/torch/hub/mateuszbuda_brain-segmentation-pytorch_master\n"
     ]
    },
    {
     "name": "stdout",
     "output_type": "stream",
     "text": [
      "137\n",
      "Split:C|Partition:0.7|NewJaccard:0.902508270740509|OGJaccard:0.9055923461914063|NewDice:0.9487021446228028|OGDice:0.9503263473510742\n"
     ]
    },
    {
     "name": "stderr",
     "output_type": "stream",
     "text": [
      "Using cache found in /root/.cache/torch/hub/mateuszbuda_brain-segmentation-pytorch_master\n"
     ]
    },
    {
     "name": "stdout",
     "output_type": "stream",
     "text": [
      "99\n",
      "Split:D|Partition:0.1|NewJaccard:0.8615512669086456|OGJaccard:0.8586161732673645|NewDice:0.9252488434314727|OGDice:0.9236314773559571\n"
     ]
    },
    {
     "name": "stderr",
     "output_type": "stream",
     "text": [
      "Using cache found in /root/.cache/torch/hub/mateuszbuda_brain-segmentation-pytorch_master\n"
     ]
    }
   ],
   "source": [
    "splits = ['A', 'B', 'C', 'D', 'E']\n",
    "partitions = [0.1,0.2,0.3,0.4,0.5,0.6,0.7]\n",
    "\n",
    "# Cycle through all models\n",
    "for split in splits:\n",
    "    for partition in partitions:\n",
    "        # Load the stored data\n",
    "        name = f'./model/Split:{split}|Partition:{partition}|New'\n",
    "        data = torch.load(name)\n",
    "        # Extract data\n",
    "        train_indices = data['train_indices']\n",
    "        remaining_indices = data['remaining_indices']\n",
    "        test_indices = data['test_indices']\n",
    "        orig_jaccard_score = data['jaccard_score']\n",
    "        orig_dice_score = data['dice_score']\n",
    "        orig_iterations = data['num_iterations']\n",
    "        state_dict = data['state_dict']\n",
    "        # Load base model\n",
    "        trained_model = torch.hub.load('mateuszbuda/brain-segmentation-pytorch', 'unet',\n",
    "            in_channels=3, out_channels=1, init_features=64, pretrained=False, trust_repo=True).to(device)\n",
    "        # Load saved model\n",
    "        trained_model.load_state_dict(state_dict)\n",
    "        \n",
    "        # Create new dataset\n",
    "        new_dataset = []\n",
    "        # Get train loader for fold\n",
    "        remaining_loader = DataLoader(\n",
    "            dataset=dataset,\n",
    "            batch_size=1,\n",
    "            sampler=torch.utils.data.SubsetRandomSampler(remaining_indices),\n",
    "            num_workers = num_workers\n",
    "        )\n",
    "        # Create masks of remaining data\n",
    "        images, new_masks = create_masks(trained_model, device, remaining_loader)\n",
    "        # Create dataset with new masks\n",
    "        new_dataset.append(BaseDataset(images, new_masks))\n",
    "        # Get images and masks used to train saved model\n",
    "        base_images, base_masks = get_masks(train_indices,dataset)\n",
    "        # Create dataset with ground truth masks and images\n",
    "        new_dataset.append(BaseDataset(base_images, base_masks))\n",
    "        # Concatenate the two so we have a dataset with generated masks and truth maks\n",
    "        # this will be our train dataset\n",
    "        train_dataset = torch.utils.data.ConcatDataset(new_dataset)\n",
    "        \n",
    "        # Create train loader for new dataset\n",
    "        train_loader = DataLoader(\n",
    "            dataset=train_dataset,\n",
    "            batch_size = BATCH_SIZE,\n",
    "            shuffle = True,\n",
    "            num_workers = num_workers,\n",
    "        )    \n",
    "        \n",
    "        ## Initialize the model ##\n",
    "        \n",
    "        # We will begin our learning rate at 0.01 \n",
    "        lr = 0.01\n",
    "        # Optimizer for model\n",
    "        optimizer = torch.optim.Adam(trained_model.parameters(), lr)\n",
    "        scheduler = torch.optim.lr_scheduler.CosineAnnealingLR(optimizer,100)\n",
    "        \n",
    "        ## Initialize the training ##\n",
    "    \n",
    "        # Initialize previous and current loss for stopping rule\n",
    "        \n",
    "        L_MA = 1 # Moving average of loss\n",
    "        L_k = 0 # Current loss\n",
    "        \n",
    "        # To determine in threshold is too low\n",
    "        counter = 0\n",
    "        # Train model until stopping rule is reached\n",
    "        while(stopping_rule(L_MA, L_k, threshold) or counter < 10):\n",
    "            # Train model and compute loss\n",
    "            L_k = train_model(trained_model, loss_fn, device, train_loader, optimizer)\n",
    "            \n",
    "            # Initialization\n",
    "            if(L_MA == 0):\n",
    "                L_MA = L_k\n",
    "            \n",
    "            # Find EMA of losses\n",
    "            L_MA = moving_avg(alpha, L_MA, L_k)\n",
    "            counter += 1\n",
    "            \n",
    "        # To determine in threshold is too low\n",
    "        print(counter) \n",
    "        \n",
    "        # Get test dataset\n",
    "        test_loader = DataLoader(\n",
    "                dataset=dataset,\n",
    "                batch_size=BATCH_SIZE,\n",
    "                sampler=torch.utils.data.SubsetRandomSampler(test_indices),\n",
    "                num_workers = num_workers,\n",
    "        )\n",
    "        \n",
    "        # Test model on test split\n",
    "        jaccard_score, dice_score = test_model(trained_model, device, test_loader, jaccard, dice)\n",
    "        print(f'Split:{split}|Partition:{partition}|NewJaccard:{jaccard_score}|OGJaccard:{orig_jaccard_score}|NewDice:{dice_score}|OGDice:{orig_dice_score}')\n",
    "        name = f'./new_models/Split:{split}|Partition:{partition}|New'\n",
    "        # Save model and results\n",
    "        state = {\n",
    "            'state_dict' : trained_model.state_dict(),\n",
    "            'jaccard_score' : jaccard_score,\n",
    "            'dice_score' : dice_score,\n",
    "            'num_iterations' : counter,\n",
    "            'orig_jaccard_score' : orig_jaccard_score,\n",
    "            'orig_dice_score' : orig_dice_score,\n",
    "            'orig_iterations' : orig_iterations,\n",
    "        }\n",
    "        torch.save(state,f=name)\n",
    "        \n",
    "        \n",
    "        "
   ]
  },
  {
   "cell_type": "code",
   "execution_count": null,
   "metadata": {},
   "outputs": [],
   "source": []
  },
  {
   "cell_type": "code",
   "execution_count": null,
   "metadata": {},
   "outputs": [],
   "source": []
  },
  {
   "cell_type": "code",
   "execution_count": null,
   "metadata": {},
   "outputs": [],
   "source": []
  }
 ],
 "metadata": {
  "kernelspec": {
   "display_name": "Python 3 (ipykernel)",
   "language": "python",
   "name": "python3"
  },
  "language_info": {
   "codemirror_mode": {
    "name": "ipython",
    "version": 3
   },
   "file_extension": ".py",
   "mimetype": "text/x-python",
   "name": "python",
   "nbconvert_exporter": "python",
   "pygments_lexer": "ipython3",
   "version": "3.11.7"
  }
 },
 "nbformat": 4,
 "nbformat_minor": 4
}
