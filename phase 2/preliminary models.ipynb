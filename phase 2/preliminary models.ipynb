{
 "cells": [
  {
   "cell_type": "code",
   "execution_count": 1,
   "metadata": {
    "execution": {
     "iopub.execute_input": "2024-08-22T20:18:37.684727Z",
     "iopub.status.busy": "2024-08-22T20:18:37.684466Z",
     "iopub.status.idle": "2024-08-22T20:18:41.998698Z",
     "shell.execute_reply": "2024-08-22T20:18:41.997745Z",
     "shell.execute_reply.started": "2024-08-22T20:18:37.684705Z"
    }
   },
   "outputs": [
    {
     "name": "stdout",
     "output_type": "stream",
     "text": [
      "Requirement already satisfied: torch in /usr/local/lib/python3.9/dist-packages (1.12.1+cu116)\n",
      "Requirement already satisfied: typing-extensions in /usr/local/lib/python3.9/dist-packages (from torch) (4.4.0)\n",
      "\u001b[33mWARNING: Running pip as the 'root' user can result in broken permissions and conflicting behaviour with the system package manager. It is recommended to use a virtual environment instead: https://pip.pypa.io/warnings/venv\u001b[0m\u001b[33m\n",
      "\u001b[0mRequirement already satisfied: torchmetrics in /usr/local/lib/python3.9/dist-packages (1.4.1)\n",
      "Requirement already satisfied: torch>=1.10.0 in /usr/local/lib/python3.9/dist-packages (from torchmetrics) (1.12.1+cu116)\n",
      "Requirement already satisfied: lightning-utilities>=0.8.0 in /usr/local/lib/python3.9/dist-packages (from torchmetrics) (0.11.6)\n",
      "Requirement already satisfied: packaging>17.1 in /usr/local/lib/python3.9/dist-packages (from torchmetrics) (23.0)\n",
      "Requirement already satisfied: numpy>1.20.0 in /usr/local/lib/python3.9/dist-packages (from torchmetrics) (1.23.4)\n",
      "Requirement already satisfied: setuptools in /usr/local/lib/python3.9/dist-packages (from lightning-utilities>=0.8.0->torchmetrics) (66.1.1)\n",
      "Requirement already satisfied: typing-extensions in /usr/local/lib/python3.9/dist-packages (from lightning-utilities>=0.8.0->torchmetrics) (4.4.0)\n",
      "\u001b[33mWARNING: Running pip as the 'root' user can result in broken permissions and conflicting behaviour with the system package manager. It is recommended to use a virtual environment instead: https://pip.pypa.io/warnings/venv\u001b[0m\u001b[33m\n",
      "\u001b[0m"
     ]
    }
   ],
   "source": [
    "!pip install torch\n",
    "!pip install torchmetrics"
   ]
  },
  {
   "cell_type": "markdown",
   "metadata": {},
   "source": [
    "# Imports\n",
    "Packages required for experiment"
   ]
  },
  {
   "cell_type": "code",
   "execution_count": 1,
   "metadata": {
    "execution": {
     "iopub.execute_input": "2024-08-22T20:20:54.541536Z",
     "iopub.status.busy": "2024-08-22T20:20:54.540892Z",
     "iopub.status.idle": "2024-08-22T20:20:56.024736Z",
     "shell.execute_reply": "2024-08-22T20:20:56.024240Z",
     "shell.execute_reply.started": "2024-08-22T20:20:54.541511Z"
    }
   },
   "outputs": [],
   "source": [
    "# General use for DL\n",
    "import torch\n",
    "import numpy as np\n",
    "\n",
    "# To loader dataset\n",
    "from torch.utils.data import DataLoader\n",
    "\n",
    "# Data Measurements\n",
    "from torchmetrics import JaccardIndex\n",
    "from torchmetrics import Dice\n",
    "\n",
    "# Dataset import\n",
    "from dataset import PolypsSegmentationDataset"
   ]
  },
  {
   "cell_type": "markdown",
   "metadata": {},
   "source": [
    "# Stopping Rule\n",
    "When this function returns a value less than 0.1 % = 0.001 then we know to stop training"
   ]
  },
  {
   "cell_type": "code",
   "execution_count": 2,
   "metadata": {
    "execution": {
     "iopub.execute_input": "2024-08-22T20:20:56.025919Z",
     "iopub.status.busy": "2024-08-22T20:20:56.025658Z",
     "iopub.status.idle": "2024-08-22T20:20:56.028986Z",
     "shell.execute_reply": "2024-08-22T20:20:56.028521Z",
     "shell.execute_reply.started": "2024-08-22T20:20:56.025902Z"
    }
   },
   "outputs": [],
   "source": [
    "# Finds percent change between previous and current loss\n",
    "# and if it is less than threshold return false\n",
    "def stopping_rule(L_k, L_k1, threshold):\n",
    "    return abs(L_k - L_k1) / L_k > threshold"
   ]
  },
  {
   "cell_type": "markdown",
   "metadata": {},
   "source": [
    "# Training Function"
   ]
  },
  {
   "cell_type": "code",
   "execution_count": 3,
   "metadata": {
    "execution": {
     "iopub.execute_input": "2024-08-22T20:20:56.927077Z",
     "iopub.status.busy": "2024-08-22T20:20:56.926272Z",
     "iopub.status.idle": "2024-08-22T20:20:56.931006Z",
     "shell.execute_reply": "2024-08-22T20:20:56.930364Z",
     "shell.execute_reply.started": "2024-08-22T20:20:56.927051Z"
    }
   },
   "outputs": [],
   "source": [
    "def train_model(model, loss_fn, device, train_loader, optimizer):\n",
    "    # Initalize loss\n",
    "    average_loss = 0\n",
    "    # Train on dataset\n",
    "    model.train()\n",
    "    for batch_idx, (X,y) in enumerate(train_loader):\n",
    "        # Get batch\n",
    "        image, mask = X.to(device), y.to(device)\n",
    "        # Get results\n",
    "        output = model(image)\n",
    "        # Compute loss\n",
    "        loss = loss_fn(output, mask)\n",
    "        average_loss += loss.item()\n",
    "        # Optimize model\n",
    "        optimizer.zero_grad()\n",
    "        loss.backward()\n",
    "        optimizer.step()\n",
    "    # Return average loss\n",
    "    return average_loss / len(train_loader)"
   ]
  },
  {
   "cell_type": "markdown",
   "metadata": {},
   "source": [
    "# Testing Function"
   ]
  },
  {
   "cell_type": "code",
   "execution_count": 4,
   "metadata": {
    "execution": {
     "iopub.execute_input": "2024-08-22T20:20:57.465627Z",
     "iopub.status.busy": "2024-08-22T20:20:57.465101Z",
     "iopub.status.idle": "2024-08-22T20:20:57.470025Z",
     "shell.execute_reply": "2024-08-22T20:20:57.469558Z",
     "shell.execute_reply.started": "2024-08-22T20:20:57.465604Z"
    }
   },
   "outputs": [],
   "source": [
    "def test_model(model, device, test_loader, jaccard, dice):\n",
    "    # Initalize average jaccard and dice\n",
    "    average_jaccard = 0\n",
    "    average_dice = 0\n",
    "    # Test the model\n",
    "    model.eval()\n",
    "    for batch_idx, (X,y) in enumerate(test_loader):\n",
    "        # Get batch\n",
    "        image, mask = X.to(device), y.to(device)\n",
    "        # Get results\n",
    "        output = model(image)\n",
    "        average_jaccard += jaccard(torch.where(output > 0.5, 1, 0),torch.where(mask > 0.50, 1, 0)).item()\n",
    "        average_dice += dice(torch.where(output > 0.5, 1, 0),torch.where(mask > 0.50, 1, 0)).item()\n",
    "    # Get average of dice and jaccard scores\n",
    "    average_jaccard /= len(test_loader)\n",
    "    average_dice /= len(test_loader)\n",
    "\n",
    "    # Return values\n",
    "    return average_jaccard, average_dice"
   ]
  },
  {
   "cell_type": "markdown",
   "metadata": {},
   "source": [
    "# Function to partition list\n",
    "We will use this function to partition the list of train indices into eighths. If we remember the train indices consist of 80 % of the original dataset, so each partition will contain 10 % of the original dataset. "
   ]
  },
  {
   "cell_type": "code",
   "execution_count": 5,
   "metadata": {
    "execution": {
     "iopub.execute_input": "2024-08-22T20:20:57.945524Z",
     "iopub.status.busy": "2024-08-22T20:20:57.945006Z",
     "iopub.status.idle": "2024-08-22T20:20:57.949206Z",
     "shell.execute_reply": "2024-08-22T20:20:57.948629Z",
     "shell.execute_reply.started": "2024-08-22T20:20:57.945502Z"
    }
   },
   "outputs": [],
   "source": [
    "def split_into_eights(list):\n",
    "    # Floor division of length of list\n",
    "    partition_size = len(list) // 8\n",
    "    remainder  = len(list) % 8\n",
    "    \n",
    "    # List that will store each parition\n",
    "    partitions = []\n",
    "    \n",
    "    # Partition the list, if partition is not even distrubutes \n",
    "    # remainder between beginning paritions\n",
    "    start = 0\n",
    "    for i in range(8):\n",
    "        end = start + partition_size + (1 if i < remainder and i != 0 else 0)\n",
    "        partitions.append(list[start:end])\n",
    "        start = end\n",
    "    return partitions  "
   ]
  },
  {
   "cell_type": "markdown",
   "metadata": {},
   "source": [
    "# Load Data\n",
    "Load the baseline data and indices splits from previous stage."
   ]
  },
  {
   "cell_type": "code",
   "execution_count": 6,
   "metadata": {
    "execution": {
     "iopub.execute_input": "2024-08-22T20:20:58.513218Z",
     "iopub.status.busy": "2024-08-22T20:20:58.512949Z",
     "iopub.status.idle": "2024-08-22T20:20:58.519355Z",
     "shell.execute_reply": "2024-08-22T20:20:58.518800Z",
     "shell.execute_reply.started": "2024-08-22T20:20:58.513198Z"
    }
   },
   "outputs": [],
   "source": [
    "# File name\n",
    "name = 'baseline.pt'\n",
    "baseline = torch.load(f=name)\n",
    "# Extract indices and baseline jaccard and dice scores\n",
    "all_indices = baseline['fold_dict']\n",
    "baseline_jaccard = baseline['baseline_jaccard']\n",
    "baseline_dice = baseline['baseline_dice']\n"
   ]
  },
  {
   "cell_type": "markdown",
   "metadata": {},
   "source": [
    "Load the dataset"
   ]
  },
  {
   "cell_type": "code",
   "execution_count": 7,
   "metadata": {
    "execution": {
     "iopub.execute_input": "2024-08-22T20:20:59.315004Z",
     "iopub.status.busy": "2024-08-22T20:20:59.314688Z",
     "iopub.status.idle": "2024-08-22T20:20:59.326130Z",
     "shell.execute_reply": "2024-08-22T20:20:59.325599Z",
     "shell.execute_reply.started": "2024-08-22T20:20:59.314982Z"
    }
   },
   "outputs": [
    {
     "name": "stderr",
     "output_type": "stream",
     "text": [
      "100%|██████████| 1000/1000 [00:00<00:00, 765383.94it/s]\n",
      "100%|██████████| 1000/1000 [00:00<00:00, 770728.41it/s]\n"
     ]
    }
   ],
   "source": [
    "# Path to images and mask\n",
    "image_path = './Kvasir-SEG'\n",
    "# U-Net we are using takes 3 x 256 x 256 images\n",
    "size = 256\n",
    "# Importing the dataset\n",
    "dataset = PolypsSegmentationDataset(image_path,size)"
   ]
  },
  {
   "cell_type": "markdown",
   "metadata": {},
   "source": [
    "Specify hyperparameters"
   ]
  },
  {
   "cell_type": "code",
   "execution_count": 8,
   "metadata": {
    "execution": {
     "iopub.execute_input": "2024-08-22T20:21:00.448193Z",
     "iopub.status.busy": "2024-08-22T20:21:00.447559Z",
     "iopub.status.idle": "2024-08-22T20:21:01.689447Z",
     "shell.execute_reply": "2024-08-22T20:21:01.688668Z",
     "shell.execute_reply.started": "2024-08-22T20:21:00.448193Z"
    }
   },
   "outputs": [],
   "source": [
    "## Preliminary variables ##\n",
    "\n",
    "# Specifies whether to train on GPU or CPU\n",
    "device = 'cuda' if torch.cuda.is_available() else 'cpu'\n",
    "\n",
    "# Loss for training\n",
    "loss_fn = torch.nn.BCELoss()\n",
    "\n",
    "# Measurements\n",
    "jaccard = JaccardIndex(task='multiclass', num_classes = 2, average = 'micro').to(device)\n",
    "dice = Dice(num_classes = 2, average = 'micro').to(device)\n",
    "\n",
    "# Batch Size\n",
    "BATCH_SIZE = 16\n",
    "\n",
    "# Stopping threshold\n",
    "threshold = 0.001\n",
    "\n",
    "# Speeds up training\n",
    "num_workers = 8\n"
   ]
  },
  {
   "cell_type": "code",
   "execution_count": 11,
   "metadata": {
    "execution": {
     "iopub.status.idle": "2024-08-23T03:13:11.538014Z",
     "shell.execute_reply": "2024-08-23T03:13:11.537018Z",
     "shell.execute_reply.started": "2024-08-23T00:18:38.560575Z"
    }
   },
   "outputs": [
    {
     "name": "stdout",
     "output_type": "stream",
     "text": [
      "154\n",
      "Split:B|Partition:0.3|Jaccard:0.838028073310852|Dice:0.9111771216759315\n"
     ]
    },
    {
     "name": "stderr",
     "output_type": "stream",
     "text": [
      "Using cache found in /root/.cache/torch/hub/mateuszbuda_brain-segmentation-pytorch_master\n"
     ]
    },
    {
     "name": "stdout",
     "output_type": "stream",
     "text": [
      "21\n",
      "Split:B|Partition:0.4|Jaccard:0.7956162828665513|Dice:0.8855276107788086\n"
     ]
    },
    {
     "name": "stderr",
     "output_type": "stream",
     "text": [
      "Using cache found in /root/.cache/torch/hub/mateuszbuda_brain-segmentation-pytorch_master\n"
     ]
    },
    {
     "name": "stdout",
     "output_type": "stream",
     "text": [
      "125\n",
      "Split:B|Partition:0.5|Jaccard:0.8628376859884995|Dice:0.9262282298161433\n"
     ]
    },
    {
     "name": "stderr",
     "output_type": "stream",
     "text": [
      "Using cache found in /root/.cache/torch/hub/mateuszbuda_brain-segmentation-pytorch_master\n"
     ]
    },
    {
     "name": "stdout",
     "output_type": "stream",
     "text": [
      "153\n",
      "Split:B|Partition:0.6|Jaccard:0.871940002991603|Dice:0.9312562942504883\n"
     ]
    },
    {
     "name": "stderr",
     "output_type": "stream",
     "text": [
      "Using cache found in /root/.cache/torch/hub/mateuszbuda_brain-segmentation-pytorch_master\n"
     ]
    },
    {
     "name": "stdout",
     "output_type": "stream",
     "text": [
      "126\n",
      "Split:B|Partition:0.7|Jaccard:0.8758463034263024|Dice:0.93340881054218\n"
     ]
    },
    {
     "name": "stderr",
     "output_type": "stream",
     "text": [
      "Using cache found in /root/.cache/torch/hub/mateuszbuda_brain-segmentation-pytorch_master\n"
     ]
    },
    {
     "name": "stdout",
     "output_type": "stream",
     "text": [
      "8\n",
      "Split:C|Partition:0.1|Jaccard:0.7495599801723773|Dice:0.85546691601093\n"
     ]
    },
    {
     "name": "stderr",
     "output_type": "stream",
     "text": [
      "Using cache found in /root/.cache/torch/hub/mateuszbuda_brain-segmentation-pytorch_master\n"
     ]
    },
    {
     "name": "stdout",
     "output_type": "stream",
     "text": [
      "9\n",
      "Split:C|Partition:0.2|Jaccard:0.6038658894025363|Dice:0.7526745429405799\n"
     ]
    },
    {
     "name": "stderr",
     "output_type": "stream",
     "text": [
      "Using cache found in /root/.cache/torch/hub/mateuszbuda_brain-segmentation-pytorch_master\n"
     ]
    },
    {
     "name": "stdout",
     "output_type": "stream",
     "text": [
      "6\n",
      "Split:C|Partition:0.3|Jaccard:0.7515174104617193|Dice:0.8572593102088342\n"
     ]
    },
    {
     "name": "stderr",
     "output_type": "stream",
     "text": [
      "Using cache found in /root/.cache/torch/hub/mateuszbuda_brain-segmentation-pytorch_master\n"
     ]
    },
    {
     "name": "stdout",
     "output_type": "stream",
     "text": [
      "9\n",
      "Split:C|Partition:0.4|Jaccard:0.7502255531457754|Dice:0.8569052769587591\n"
     ]
    },
    {
     "name": "stderr",
     "output_type": "stream",
     "text": [
      "Using cache found in /root/.cache/torch/hub/mateuszbuda_brain-segmentation-pytorch_master\n"
     ]
    },
    {
     "name": "stdout",
     "output_type": "stream",
     "text": [
      "40\n",
      "Split:C|Partition:0.5|Jaccard:0.8342632146982046|Dice:0.9090637793907752\n"
     ]
    },
    {
     "name": "stderr",
     "output_type": "stream",
     "text": [
      "Using cache found in /root/.cache/torch/hub/mateuszbuda_brain-segmentation-pytorch_master\n"
     ]
    },
    {
     "name": "stdout",
     "output_type": "stream",
     "text": [
      "47\n",
      "Split:C|Partition:0.6|Jaccard:0.8603032460579505|Dice:0.9243657038762019\n"
     ]
    },
    {
     "name": "stderr",
     "output_type": "stream",
     "text": [
      "Using cache found in /root/.cache/torch/hub/mateuszbuda_brain-segmentation-pytorch_master\n"
     ]
    },
    {
     "name": "stdout",
     "output_type": "stream",
     "text": [
      "10\n",
      "Split:C|Partition:0.7|Jaccard:0.7644382302577679|Dice:0.8662427021906927\n"
     ]
    },
    {
     "name": "stderr",
     "output_type": "stream",
     "text": [
      "Using cache found in /root/.cache/torch/hub/mateuszbuda_brain-segmentation-pytorch_master\n"
     ]
    },
    {
     "name": "stdout",
     "output_type": "stream",
     "text": [
      "11\n",
      "Split:D|Partition:0.1|Jaccard:0.7122642489580008|Dice:0.8311265065119817\n"
     ]
    },
    {
     "name": "stderr",
     "output_type": "stream",
     "text": [
      "Using cache found in /root/.cache/torch/hub/mateuszbuda_brain-segmentation-pytorch_master\n"
     ]
    },
    {
     "name": "stdout",
     "output_type": "stream",
     "text": [
      "13\n",
      "Split:D|Partition:0.2|Jaccard:0.6683979080273554|Dice:0.8006136233990009\n"
     ]
    },
    {
     "name": "stderr",
     "output_type": "stream",
     "text": [
      "Using cache found in /root/.cache/torch/hub/mateuszbuda_brain-segmentation-pytorch_master\n"
     ]
    },
    {
     "name": "stdout",
     "output_type": "stream",
     "text": [
      "32\n",
      "Split:D|Partition:0.3|Jaccard:0.7539177582814143|Dice:0.8590316772460938\n"
     ]
    },
    {
     "name": "stderr",
     "output_type": "stream",
     "text": [
      "Using cache found in /root/.cache/torch/hub/mateuszbuda_brain-segmentation-pytorch_master\n"
     ]
    },
    {
     "name": "stdout",
     "output_type": "stream",
     "text": [
      "9\n",
      "Split:D|Partition:0.4|Jaccard:0.7233358392348657|Dice:0.8388657936683068\n"
     ]
    },
    {
     "name": "stderr",
     "output_type": "stream",
     "text": [
      "Using cache found in /root/.cache/torch/hub/mateuszbuda_brain-segmentation-pytorch_master\n"
     ]
    },
    {
     "name": "stdout",
     "output_type": "stream",
     "text": [
      "18\n",
      "Split:D|Partition:0.5|Jaccard:0.7225719048426702|Dice:0.83844360938439\n"
     ]
    },
    {
     "name": "stderr",
     "output_type": "stream",
     "text": [
      "Using cache found in /root/.cache/torch/hub/mateuszbuda_brain-segmentation-pytorch_master\n"
     ]
    },
    {
     "name": "stdout",
     "output_type": "stream",
     "text": [
      "12\n",
      "Split:D|Partition:0.6|Jaccard:0.7393910976556631|Dice:0.8499745589036208\n"
     ]
    },
    {
     "name": "stderr",
     "output_type": "stream",
     "text": [
      "Using cache found in /root/.cache/torch/hub/mateuszbuda_brain-segmentation-pytorch_master\n"
     ]
    },
    {
     "name": "stdout",
     "output_type": "stream",
     "text": [
      "15\n",
      "Split:D|Partition:0.7|Jaccard:0.7405328429662265|Dice:0.8505243888268104\n"
     ]
    },
    {
     "name": "stderr",
     "output_type": "stream",
     "text": [
      "Using cache found in /root/.cache/torch/hub/mateuszbuda_brain-segmentation-pytorch_master\n"
     ]
    },
    {
     "name": "stdout",
     "output_type": "stream",
     "text": [
      "83\n",
      "Split:E|Partition:0.1|Jaccard:0.7720469878270075|Dice:0.8708260609553411\n"
     ]
    },
    {
     "name": "stderr",
     "output_type": "stream",
     "text": [
      "Using cache found in /root/.cache/torch/hub/mateuszbuda_brain-segmentation-pytorch_master\n"
     ]
    },
    {
     "name": "stdout",
     "output_type": "stream",
     "text": [
      "18\n",
      "Split:E|Partition:0.2|Jaccard:0.6606472914035504|Dice:0.7952230893648587\n"
     ]
    },
    {
     "name": "stderr",
     "output_type": "stream",
     "text": [
      "Using cache found in /root/.cache/torch/hub/mateuszbuda_brain-segmentation-pytorch_master\n"
     ]
    },
    {
     "name": "stdout",
     "output_type": "stream",
     "text": [
      "29\n",
      "Split:E|Partition:0.3|Jaccard:0.7678954509588388|Dice:0.868304546062763\n"
     ]
    },
    {
     "name": "stderr",
     "output_type": "stream",
     "text": [
      "Using cache found in /root/.cache/torch/hub/mateuszbuda_brain-segmentation-pytorch_master\n"
     ]
    },
    {
     "name": "stdout",
     "output_type": "stream",
     "text": [
      "14\n",
      "Split:E|Partition:0.4|Jaccard:0.7582725332333491|Dice:0.8620426471416767\n"
     ]
    },
    {
     "name": "stderr",
     "output_type": "stream",
     "text": [
      "Using cache found in /root/.cache/torch/hub/mateuszbuda_brain-segmentation-pytorch_master\n"
     ]
    },
    {
     "name": "stdout",
     "output_type": "stream",
     "text": [
      "9\n",
      "Split:E|Partition:0.5|Jaccard:0.6665022785847003|Dice:0.7993022478543795\n"
     ]
    },
    {
     "name": "stderr",
     "output_type": "stream",
     "text": [
      "Using cache found in /root/.cache/torch/hub/mateuszbuda_brain-segmentation-pytorch_master\n"
     ]
    },
    {
     "name": "stdout",
     "output_type": "stream",
     "text": [
      "6\n",
      "Split:E|Partition:0.6|Jaccard:0.7438110800889822|Dice:0.8521871566772461\n"
     ]
    },
    {
     "name": "stderr",
     "output_type": "stream",
     "text": [
      "Using cache found in /root/.cache/torch/hub/mateuszbuda_brain-segmentation-pytorch_master\n"
     ]
    },
    {
     "name": "stdout",
     "output_type": "stream",
     "text": [
      "8\n",
      "Split:E|Partition:0.7|Jaccard:0.7454458245864282|Dice:0.8534947175246018\n"
     ]
    }
   ],
   "source": [
    "splits = ['A', 'B', 'C', 'D', 'E']\n",
    "partitions = [0,0.1,0.2,0.3,0.4,0.5,0.6,0.7]\n",
    "# Cycle through all test splits\n",
    "for split in splits:\n",
    "    # Get indices of test and train points in dataset\n",
    "    indices = all_indices[split]\n",
    "    train_indices = indices[0]\n",
    "    test_indices = indices[1]\n",
    "    # Split train indices into eighths\n",
    "    partition_indices = split_into_eights(train_indices)\n",
    "    # Create test dataloader for fold\n",
    "    test_loader = DataLoader(\n",
    "        dataset=dataset,\n",
    "        batch_size=BATCH_SIZE,\n",
    "        sampler=torch.utils.data.SubsetRandomSampler(test_indices),\n",
    "        num_workers = num_workers\n",
    "    )\n",
    "    # Cycle through all partition lengths of training data (0.1,0.2,...,0.7)\n",
    "    for i in range(1, len(partition_indices)):\n",
    "        \n",
    "        # Initialize Jaccard and Dice\n",
    "        average_jaccard = 0\n",
    "        average_dice = 0\n",
    "                \n",
    "        train_indices_i = np.hstack(partition_indices[0:i])\n",
    "        remaining_indices = np.hstack(partition_indices[1:-1])\n",
    "        # Create a train dataloader for partition\n",
    "        train_loader = DataLoader(\n",
    "            dataset=dataset,\n",
    "            batch_size = BATCH_SIZE,\n",
    "            sampler=torch.utils.data.SubsetRandomSampler(train_indices_i),\n",
    "            num_workers = num_workers\n",
    "        )\n",
    "        \n",
    "        ## Initialize the model ##\n",
    "\n",
    "        # Loading an untrained model to GPU/CPU\n",
    "        model = torch.hub.load('mateuszbuda/brain-segmentation-pytorch', 'unet',\n",
    "            in_channels=3, out_channels=1, init_features=64, pretrained=False, trust_repo=True).to(device)\n",
    "        # We will begin our learning rate at 0.01 \n",
    "        lr = 0.01\n",
    "        # Optimizer for model\n",
    "        optimizer = torch.optim.Adam(model.parameters(), lr)\n",
    "        scheduler = torch.optim.lr_scheduler.CosineAnnealingLR(optimizer,25)\n",
    "        \n",
    "        ## Initialize the training ##\n",
    "    \n",
    "        # Initialize previous and current loss for stopping rule\n",
    "        \n",
    "        L_k = 1 # Previous loss\n",
    "        L_k1 = 0.8 # Current loss\n",
    "        \n",
    "        counter = 0\n",
    "        # Train model until stopping rule is reached\n",
    "        while(stopping_rule(L_k, L_k1, threshold)):\n",
    "            # Assign previous loss for next iteration\n",
    "            L_k = L_k1\n",
    "            # Train model and compute loss\n",
    "            L_k1 = train_model(model, loss_fn, device, train_loader, optimizer)\n",
    "            counter += 1\n",
    "            \n",
    "        # To determine in threshold is too low\n",
    "        print(counter)\n",
    "        # Test model on test split\n",
    "        jaccard_score, dice_score = test_model(model, device, test_loader, jaccard, dice)\n",
    "        print(f'Split:{split}|Partition:{partitions[i]}|Jaccard:{jaccard_score}|Dice:{dice_score}')\n",
    "        # Save model, scores, and indices for next step\n",
    "        name = f'./model/Split:{split}|Partition:{partitions[i]}'\n",
    "        state = {\n",
    "            'train_indices' : train_indices_i,\n",
    "            'remaining_indices' : remaining_indices,\n",
    "            'test_indices' : test_indices,\n",
    "            'jaccard_score' : jaccard_score,\n",
    "            'dice_score' : dice_score,\n",
    "            'state_dict' : model.state_dict(),\n",
    "        }\n",
    "        torch.save(state, f=name)\n",
    "        \n",
    "    "
   ]
  }
 ],
 "metadata": {
  "kernelspec": {
   "display_name": "Python 3 (ipykernel)",
   "language": "python",
   "name": "python3"
  },
  "language_info": {
   "codemirror_mode": {
    "name": "ipython",
    "version": 3
   },
   "file_extension": ".py",
   "mimetype": "text/x-python",
   "name": "python",
   "nbconvert_exporter": "python",
   "pygments_lexer": "ipython3",
   "version": "3.11.9"
  }
 },
 "nbformat": 4,
 "nbformat_minor": 4
}
